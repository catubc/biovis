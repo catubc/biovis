{
 "metadata": {
  "name": "",
  "signature": "sha256:513e712dcaa7b332b84974d1115d5b44bda58d951d2270b58168f4d94335b123"
 },
 "nbformat": 3,
 "nbformat_minor": 0,
 "worksheets": [
  {
   "cells": [
    {
     "cell_type": "code",
     "collapsed": false,
     "input": [
      "from biovis import Biovis # super-duper Cat's package \n",
      "import pandas as pd\n",
      "import json\n",
      "import netgraph as ng # Sergey's package for network model io"
     ],
     "language": "python",
     "metadata": {},
     "outputs": [],
     "prompt_number": 1
    },
    {
     "cell_type": "code",
     "collapsed": false,
     "input": [
      "# load network structure\n",
      "\n",
      "cells_file_name =\"simulations/nodes/cells.csv\"\n",
      "cell_models_file_name = \"simulations/nodes/cm_perisomatic.csv\"\n",
      "morph_dir = \"simulations/biophysical/morph_segs\"\n",
      "\n",
      "nodes_df, cells_prop_df=ng.load_nodes(cells_file_name, cell_models_file_name)\n",
      "morphologies = ng.load_morphologies(morph_dir, nodes_df)\n",
      "print \"...# unique morphologies: \", len(morphologies)\n"
     ],
     "language": "python",
     "metadata": {},
     "outputs": [
      {
       "output_type": "stream",
       "stream": "stdout",
       "text": [
        "...importing nodes...\n",
        "...total # cells simulated: "
       ]
      },
      {
       "output_type": "stream",
       "stream": "stdout",
       "text": [
        " 50770\n",
        "...# unique morphologies: "
       ]
      },
      {
       "output_type": "stream",
       "stream": "stdout",
       "text": [
        " 169\n"
       ]
      }
     ],
     "prompt_number": 2
    },
    {
     "cell_type": "code",
     "collapsed": false,
     "input": [
      "#Initialize biovis and set plotting parameters \n",
      "vis = Biovis()             #Instantiates the visualization object\n",
      "vis.nodes_df = nodes_df\n",
      "vis.morphologies = morphologies\n",
      "vis.background = 'black'  # create a blank window for visualization\n",
      "\n",
      "#Create layer slices\n",
      "layer_depths = [100,310,420,650,850]  #NB: These will be negative in the display; NB: added top and bottom also, not necessary\n",
      "layer_colors = [(0, 230, 0)] #green\n",
      "vis.setlayers(layer_depths, layer_colors)\n",
      "\n",
      "#Create box on outside of column\n",
      "outerbox=[[500,0,500], [500,0,-500], [-500,0,-500], [-500,0,500], [500,1000,500], [500,1000,-500], [-500,1000,-500], [-500,1000,500]]\n",
      "outerbox_colour = [(255,255,255)]\n",
      "vis.setbox(outerbox, outerbox_colour) # xyz volume block to place in the window\n",
      "#Optional can also make an inner box that is just the size of the simulation \n",
      "\n",
      "\n",
      "#vis.set_camera_view(location=my_location) # point of view, or may be just an orientation\n",
      "#vis.set_box_edge_tick_labels(position='southwest',linewidth=2) # add xyz axes to be able to orient in space\n",
      "#vis.set_axes(position='southwest',linewidth=2) # add xyz axes to be able to orient in space\n",
      "#vis.set_box_axes_labels(position='southwest',linewidth=2) # add xyz axes to be able to orient in space\n",
      "#vis.load_nodes(nodes_df,morphologies) # pass nodes to the visualiz\n",
      "#vis.somata3d(gids_sel1,color='magenta')\n",
      "#vis.morphs3d(gids_selg2,colors = pop_colors) # a different data frame may be passed here\n",
      "#vis.set_title('mouse V1 column')\n",
      "#vis.electrode(positions=linear_electrode_positions) # linear_electrode_positions are specified somewhere above\n"
     ],
     "language": "python",
     "metadata": {},
     "outputs": [],
     "prompt_number": 7
    },
    {
     "cell_type": "code",
     "collapsed": false,
     "input": [
      "#***************MAKE QUERY ******************\n",
      "#selection = \"cre_line=='Rorb' & location=='VisL4' & (z_soma**2+x_soma**2)<200**2\"\n",
      "#selection = \"location=='VisL4' & (z_soma**2+x_soma**2)<300**2\"\n",
      "#selection = \"ei=='excitatory'\"\n",
      "selection = \"model_id==314642645\"\n",
      "\n",
      "cells_select_df = cells_prop_df.query(selection)\n",
      "print \"number of cells satisfying selection:\", len(cells_select_df.index)\n"
     ],
     "language": "python",
     "metadata": {},
     "outputs": [
      {
       "output_type": "stream",
       "stream": "stdout",
       "text": [
        "number of cells satisfying selection: 522\n"
       ]
      }
     ],
     "prompt_number": 8
    },
    {
     "cell_type": "code",
     "collapsed": false,
     "input": [
      "vis.load_selection_dendrites(cells_select_df[:10])    #Load selected cell dendrites\n",
      "vis.load_selection_somas(cells_select_df[:10])"
     ],
     "language": "python",
     "metadata": {},
     "outputs": [
      {
       "output_type": "stream",
       "stream": "stdout",
       "text": [
        "... done loading cells...\n",
        "...generating cell colours...\n",
        "...converting lists to arrays ...\n",
        "(2420, 3)\n",
        "... done all ...\n"
       ]
      }
     ],
     "prompt_number": 9
    },
    {
     "cell_type": "code",
     "collapsed": false,
     "input": [
      "\n",
      "vis.initialize()\n",
      "vis.show()\n"
     ],
     "language": "python",
     "metadata": {},
     "outputs": [
      {
       "output_type": "stream",
       "stream": "stdout",
       "text": [
        "black\n",
        "1000 678\n",
        "1000"
       ]
      },
      {
       "output_type": "stream",
       "stream": "stdout",
       "text": [
        " 706\n",
        "1609"
       ]
      }
     ]
    },
    {
     "cell_type": "code",
     "collapsed": false,
     "input": [
      "vis.load_nodes(nodes_df,morphologies) # pass nodes to the visualiz \n"
     ],
     "language": "python",
     "metadata": {},
     "outputs": []
    },
    {
     "cell_type": "code",
     "collapsed": false,
     "input": [
      "vis.somata3d(gids_sel1,color='magenta')\n"
     ],
     "language": "python",
     "metadata": {},
     "outputs": []
    },
    {
     "cell_type": "code",
     "collapsed": false,
     "input": [
      "vis.morphs3d(gids_selg2,colors = pop_colors) # a different data frame may be passed here"
     ],
     "language": "python",
     "metadata": {},
     "outputs": []
    },
    {
     "cell_type": "code",
     "collapsed": false,
     "input": [
      "GUI, app = vis.initialize(vis)     #Hack way of passing the vis object containining data and attributes\n",
      "vis.run(app)"
     ],
     "language": "python",
     "metadata": {},
     "outputs": []
    },
    {
     "cell_type": "code",
     "collapsed": false,
     "input": [
      "# select nodes to visualize:\n",
      "\n",
      "# below is an example of choosing nodes but not using the df.query() function\n",
      "nodes_selection1_df = ~nodes_df['cre_line'].isin(['Sst','Pvalb']) # chose nodes other than 'Sst' or 'Pvalb' in \"cre_line\" column\n",
      "nodes_selection2_df = nodes_df['cre_line'].isin(['Sst']) # chose nodes other than 'Sst' or 'Pvalb' in \"cre_line\" column\n"
     ],
     "language": "python",
     "metadata": {},
     "outputs": [
      {
       "ename": "NameError",
       "evalue": "name 'nodes_df' is not defined",
       "output_type": "pyerr",
       "traceback": [
        "\u001b[0;31m---------------------------------------------------------------------------\u001b[0m\n\u001b[0;31mNameError\u001b[0m                                 Traceback (most recent call last)",
        "\u001b[0;32m<ipython-input-1-a99efb19b85f>\u001b[0m in \u001b[0;36m<module>\u001b[0;34m()\u001b[0m\n\u001b[1;32m      2\u001b[0m \u001b[0;34m\u001b[0m\u001b[0m\n\u001b[1;32m      3\u001b[0m \u001b[0;31m# below is an example of choosing nodes but not using the df.query() function\u001b[0m\u001b[0;34m\u001b[0m\u001b[0;34m\u001b[0m\u001b[0m\n\u001b[0;32m----> 4\u001b[0;31m \u001b[0mnodes_selection1_df\u001b[0m \u001b[0;34m=\u001b[0m \u001b[0;34m~\u001b[0m\u001b[0mnodes_df\u001b[0m\u001b[0;34m[\u001b[0m\u001b[0;34m'cre_line'\u001b[0m\u001b[0;34m]\u001b[0m\u001b[0;34m.\u001b[0m\u001b[0misin\u001b[0m\u001b[0;34m(\u001b[0m\u001b[0;34m[\u001b[0m\u001b[0;34m'Sst'\u001b[0m\u001b[0;34m,\u001b[0m\u001b[0;34m'Pvalb'\u001b[0m\u001b[0;34m]\u001b[0m\u001b[0;34m)\u001b[0m \u001b[0;31m# chose nodes other than 'Sst' or 'Pvalb' in \"cre_line\" column\u001b[0m\u001b[0;34m\u001b[0m\u001b[0m\n\u001b[0m\u001b[1;32m      5\u001b[0m \u001b[0mnodes_selection2_df\u001b[0m \u001b[0;34m=\u001b[0m \u001b[0mnodes_df\u001b[0m\u001b[0;34m[\u001b[0m\u001b[0;34m'cre_line'\u001b[0m\u001b[0;34m]\u001b[0m\u001b[0;34m.\u001b[0m\u001b[0misin\u001b[0m\u001b[0;34m(\u001b[0m\u001b[0;34m[\u001b[0m\u001b[0;34m'Sst'\u001b[0m\u001b[0;34m]\u001b[0m\u001b[0;34m)\u001b[0m \u001b[0;31m# chose nodes other than 'Sst' or 'Pvalb' in \"cre_line\" column\u001b[0m\u001b[0;34m\u001b[0m\u001b[0m\n",
        "\u001b[0;31mNameError\u001b[0m: name 'nodes_df' is not defined"
       ]
      }
     ],
     "prompt_number": 1
    },
    {
     "cell_type": "code",
     "collapsed": false,
     "input": [
      "layer_depths = [100,310,420,650,850]\n",
      "vis.create_window(background='white') # create a blank window for visualization\n",
      "vis.set_box(edge_coords=) # xyz volume block to place in the window\n",
      "vis.set_camera_view(location=my_location) # point of view, or may be just an orientation\n",
      "vis.set_box_edge_tick_labels(position='southwest',linewidth=2) # add xyz axes to be able to orient in space\n",
      "vis.set_axes(position='southwest',linewidth=2) # add xyz axes to be able to orient in space\n",
      "vis.set_box_axes_labels(position='southwest',linewidth=2) # add xyz axes to be able to orient in space\n",
      "vis.layers(depths=layer_depths,colors=layer_colors)\n",
      "vis.load_nodes(nodes_df,morphologies) # pass nodes to the visualiz\n",
      "vis.somata3d(gids_sel1,color='magenta')\n",
      "vis.morphs3d(gids_selg2,colors = pop_colors) # a different data frame may be passed here\n",
      "vis.set_title('mouse V1 column')\n",
      "vis.electrode(positions=linear_electrode_positions) # linear_electrode_positions are specified somewhere above\n",
      "vis.show() # the figure will pop up after after show command\n",
      "\n"
     ],
     "language": "python",
     "metadata": {},
     "outputs": []
    },
    {
     "cell_type": "code",
     "collapsed": false,
     "input": [
      "# another use case\n",
      "\n",
      "cells_types_file_name =\"/local1/ice/local_sims/20cells/net/con_types.csv\"\n",
      "con_ij_file_name = \"/local1/ice/local_sims/20cells/net/conij.h5\"\n",
      "\n",
      "# con_types_df is a dataframe of connection types which we load fully \n",
      "# con_ij is the matrix of ij connections. We do not fully load it to disk because it is huge\n",
      "con_types,con_ij_handle = ng.load_edges(cells_types_file_name,con_ij_file_name) \n",
      "\n",
      "vis.create_window(background='black') # will clear existing window\n",
      "vis.load_connections(file_name_con_types,file_name_conn_ij_handle) # \n",
      "vis.plot_presynaptic_cells(gid=cell_gid) # presynaptic cells for a particuarl cell_gid\n",
      "vis.plot_postsyntic_cells(gid=cell_gid) # postsynaptic cells for a particuarl cell_gid\n",
      "vis.show()"
     ],
     "language": "python",
     "metadata": {},
     "outputs": []
    }
   ],
   "metadata": {}
  }
 ]
}