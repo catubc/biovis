{
 "metadata": {
  "name": "",
  "signature": "sha256:a8082c421ed793241b98b1457015fd476d7c614e276f1a1f4f162b8e1b9391ab"
 },
 "nbformat": 3,
 "nbformat_minor": 0,
 "worksheets": [
  {
   "cells": [
    {
     "cell_type": "code",
     "collapsed": false,
     "input": [
      "import biovis as vis# super-duper Cat's package \n",
      "import pandas as pd\n",
      "import json\n",
      "import netgraph as ng # Sergey's package for network model io"
     ],
     "language": "python",
     "metadata": {},
     "outputs": [],
     "prompt_number": 1
    },
    {
     "cell_type": "code",
     "collapsed": false,
     "input": [
      "# load network structure\n",
      "\n",
      "cells_file_name =\"simulations/nodes/cells.csv\"\n",
      "cell_models_file_name = \"simulations/nodes/cm_perisomatic.csv\"\n",
      "morph_dir = \"simulations/biophysical/morph_segs\"\n",
      "\n",
      "nodes_df=ng.load_nodes(cells_file_name, cell_models_file_name)\n",
      "morphologies = ng.load_morphologies(morph_dir, nodes_df)\n",
      "\n",
      "print \"...# morphologies: \", len(morphologies)\n",
      "print nodes_df.shape"
     ],
     "language": "python",
     "metadata": {},
     "outputs": [
      {
       "output_type": "stream",
       "stream": "stdout",
       "text": [
        "...importing nodes...\n",
        "...total cells: "
       ]
      },
      {
       "output_type": "stream",
       "stream": "stdout",
       "text": [
        " 50770\n",
        "...# morphologies: "
       ]
      },
      {
       "output_type": "stream",
       "stream": "stdout",
       "text": [
        " 169\n",
        "(169, 12)\n"
       ]
      }
     ],
     "prompt_number": 3
    },
    {
     "cell_type": "code",
     "collapsed": false,
     "input": [
      "#Set plotting parameters and load morphologies\n",
      "\n",
      "vis.background = 'black'\n",
      "vis.set_morphologies(morphologies)   #Set vis.dendrites_1D and vis.dendrites_1D_colours\n",
      "\n"
     ],
     "language": "python",
     "metadata": {},
     "outputs": [
      {
       "output_type": "stream",
       "stream": "stdout",
       "text": [
        "[[-6.55999756  0.          0.        ]\n",
        " [ 6.55999756  0.          0.        ]]\n",
        "[[   0.  255.    0.]\n",
        " [   0.  255.    0.]]\n",
        "black\n"
       ]
      }
     ],
     "prompt_number": 4
    },
    {
     "cell_type": "code",
     "collapsed": false,
     "input": [
      "# select cells to display. \n",
      "\n",
      "#selection = \"cre_line=='Rorb' & location=='VisL4' & (z_soma**2+x_soma**2)<200**2\"\n",
      "#selection = \"location=='VisL4' & (z_soma**2+x_soma**2)<300**2\"\n",
      "#selection = \"ei=='excitatory'\"\n",
      "selection = \"model_id==314642645\"\n",
      "\n",
      "cells_select_df = nodes_df.query(selection)\n",
      "ncells_select = len(cells_select_df.index)\n",
      "print \"number of cells satisfying selection:\", ncells_select\n",
      "\n",
      "print cells_select_df\n"
     ],
     "language": "python",
     "metadata": {},
     "outputs": [
      {
       "output_type": "stream",
       "stream": "stdout",
       "text": [
        "number of cells satisfying selection: 1\n",
        "                   level_of_detail cre_line location ei_location          ei  \\\n",
        "model_id                                                                       \n",
        "314642645  biophysical_perisomatic     Rorb    VisL4      eVisL4  excitatory   \n",
        "\n",
        "          reporter_status       ymax       ymin  \\\n",
        "model_id                                          \n",
        "314642645        positive  414.94199 -94.692388   \n",
        "\n",
        "                                                  morphology  \\\n",
        "model_id                                                       \n",
        "314642645  Rorb-IRES2-Cre-D_Ai14-168052.03.02.01_49177014...   \n",
        "\n",
        "            electrophysiology  rotation_angle_zaxis  pia_distance  \n",
        "model_id                                                           \n",
        "314642645  314642645_fit.json             -4.082582    372.685943  \n"
       ]
      }
     ],
     "prompt_number": 5
    },
    {
     "cell_type": "code",
     "collapsed": false,
     "input": [
      "GUI, app = vis.initialize(vis)     #Hack way of passing the vis object containining data and attributes\n",
      "vis.run(app)"
     ],
     "language": "python",
     "metadata": {},
     "outputs": [
      {
       "output_type": "stream",
       "stream": "stdout",
       "text": [
        "black\n"
       ]
      },
      {
       "ename": "SystemExit",
       "evalue": "0",
       "output_type": "pyerr",
       "traceback": [
        "An exception has occurred, use %tb to see the full traceback.\n",
        "\u001b[0;31mSystemExit\u001b[0m\u001b[0;31m:\u001b[0m 0\n"
       ]
      },
      {
       "output_type": "stream",
       "stream": "stderr",
       "text": [
        "To exit: use 'exit', 'quit', or Ctrl-D.\n"
       ]
      }
     ],
     "prompt_number": 6
    },
    {
     "cell_type": "code",
     "collapsed": false,
     "input": [
      "\n",
      "\n",
      "quit()\n",
      "\n",
      "\n",
      "\n",
      "\n",
      "\n",
      "\n",
      "\n",
      "\n",
      "\n",
      "\n",
      "\n",
      "\n",
      "\n",
      "\n",
      "\n",
      "\n",
      "\n",
      "\n",
      "\n",
      "\n",
      "\n"
     ],
     "language": "python",
     "metadata": {},
     "outputs": [],
     "prompt_number": 7
    },
    {
     "cell_type": "code",
     "collapsed": false,
     "input": [
      "# select nodes to visualize:\n",
      "\n",
      "# below is an example of choosing nodes but not using the df.query() function\n",
      "nodes_selection1_df = ~nodes_df['cre_line'].isin(['Sst','Pvalb']) # chose nodes other than 'Sst' or 'Pvalb' in \"cre_line\" column\n",
      "nodes_selection2_df = nodes_df['cre_line'].isin(['Sst']) # chose nodes other than 'Sst' or 'Pvalb' in \"cre_line\" column\n"
     ],
     "language": "python",
     "metadata": {},
     "outputs": [
      {
       "ename": "NameError",
       "evalue": "name 'nodes_df' is not defined",
       "output_type": "pyerr",
       "traceback": [
        "\u001b[0;31m---------------------------------------------------------------------------\u001b[0m\n\u001b[0;31mNameError\u001b[0m                                 Traceback (most recent call last)",
        "\u001b[0;32m<ipython-input-1-a99efb19b85f>\u001b[0m in \u001b[0;36m<module>\u001b[0;34m()\u001b[0m\n\u001b[1;32m      2\u001b[0m \u001b[0;34m\u001b[0m\u001b[0m\n\u001b[1;32m      3\u001b[0m \u001b[0;31m# below is an example of choosing nodes but not using the df.query() function\u001b[0m\u001b[0;34m\u001b[0m\u001b[0;34m\u001b[0m\u001b[0m\n\u001b[0;32m----> 4\u001b[0;31m \u001b[0mnodes_selection1_df\u001b[0m \u001b[0;34m=\u001b[0m \u001b[0;34m~\u001b[0m\u001b[0mnodes_df\u001b[0m\u001b[0;34m[\u001b[0m\u001b[0;34m'cre_line'\u001b[0m\u001b[0;34m]\u001b[0m\u001b[0;34m.\u001b[0m\u001b[0misin\u001b[0m\u001b[0;34m(\u001b[0m\u001b[0;34m[\u001b[0m\u001b[0;34m'Sst'\u001b[0m\u001b[0;34m,\u001b[0m\u001b[0;34m'Pvalb'\u001b[0m\u001b[0;34m]\u001b[0m\u001b[0;34m)\u001b[0m \u001b[0;31m# chose nodes other than 'Sst' or 'Pvalb' in \"cre_line\" column\u001b[0m\u001b[0;34m\u001b[0m\u001b[0m\n\u001b[0m\u001b[1;32m      5\u001b[0m \u001b[0mnodes_selection2_df\u001b[0m \u001b[0;34m=\u001b[0m \u001b[0mnodes_df\u001b[0m\u001b[0;34m[\u001b[0m\u001b[0;34m'cre_line'\u001b[0m\u001b[0;34m]\u001b[0m\u001b[0;34m.\u001b[0m\u001b[0misin\u001b[0m\u001b[0;34m(\u001b[0m\u001b[0;34m[\u001b[0m\u001b[0;34m'Sst'\u001b[0m\u001b[0;34m]\u001b[0m\u001b[0;34m)\u001b[0m \u001b[0;31m# chose nodes other than 'Sst' or 'Pvalb' in \"cre_line\" column\u001b[0m\u001b[0;34m\u001b[0m\u001b[0m\n",
        "\u001b[0;31mNameError\u001b[0m: name 'nodes_df' is not defined"
       ]
      }
     ],
     "prompt_number": 1
    },
    {
     "cell_type": "code",
     "collapsed": false,
     "input": [
      "layer_depths = [100,310,420,650,850]\n",
      "vis.create_window(background='white') # create a blank window for visualization\n",
      "vis.set_box(edge_coords=) # xyz volume block to place in the window\n",
      "vis.set_camera_view(location=my_location) # point of view, or may be just an orientation\n",
      "vis.set_box_edge_tick_labels(position='southwest',linewidth=2) # add xyz axes to be able to orient in space\n",
      "vis.set_axes(position='southwest',linewidth=2) # add xyz axes to be able to orient in space\n",
      "vis.set_box_axes_labels(position='southwest',linewidth=2) # add xyz axes to be able to orient in space\n",
      "vis.layers(depths=layer_depths,colors=layer_colors)\n",
      "vis.load_nodes(nodes_df,morphologies) # pass nodes to the visualiz\n",
      "vis.somata3d(gids_sel1,color='magenta')\n",
      "vis.morphs3d(gids_selg2,colors = pop_colors) # a different data frame may be passed here\n",
      "vis.set_title('mouse V1 column')\n",
      "vis.electrode(positions=linear_electrode_positions) # linear_electrode_positions are specified somewhere above\n",
      "vis.show() # the figure will pop up after after show command\n",
      "\n"
     ],
     "language": "python",
     "metadata": {},
     "outputs": []
    },
    {
     "cell_type": "code",
     "collapsed": false,
     "input": [
      "# another use case\n",
      "\n",
      "cells_types_file_name =\"/local1/ice/local_sims/20cells/net/con_types.csv\"\n",
      "con_ij_file_name = \"/local1/ice/local_sims/20cells/net/conij.h5\"\n",
      "\n",
      "# con_types_df is a dataframe of connection types which we load fully \n",
      "# con_ij is the matrix of ij connections. We do not fully load it to disk because it is huge\n",
      "con_types,con_ij_handle = ng.load_edges(cells_types_file_name,con_ij_file_name) \n",
      "\n",
      "vis.create_window(background='black') # will clear existing window\n",
      "vis.load_connections(file_name_con_types,file_name_conn_ij_handle) # \n",
      "vis.plot_presynaptic_cells(gid=cell_gid) # presynaptic cells for a particuarl cell_gid\n",
      "vis.plot_postsyntic_cells(gid=cell_gid) # postsynaptic cells for a particuarl cell_gid\n",
      "vis.show()"
     ],
     "language": "python",
     "metadata": {},
     "outputs": []
    }
   ],
   "metadata": {}
  }
 ]
}