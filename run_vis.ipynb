{
 "metadata": {
  "name": "",
  "signature": "sha256:65282e10c0dc46d1c76f600c34c3546e09de70982a03a6ac6e4ef39f29a8d303"
 },
 "nbformat": 3,
 "nbformat_minor": 0,
 "worksheets": [
  {
   "cells": [
    {
     "cell_type": "heading",
     "level": 1,
     "metadata": {},
     "source": [
      "Visualizing biophysically detailed cells"
     ]
    },
    {
     "cell_type": "code",
     "collapsed": false,
     "input": [
      "import numpy as np\n",
      "import vismorph as vm\n",
      "import pandas as pd\n",
      "\n",
      "import pylab as plt\n",
      "\n",
      "%load_ext autoreload \n",
      "\n",
      "# check on every execution call\n",
      "%autoreload 2 \n",
      "\n",
      "#%matplotlib inline"
     ],
     "language": "python",
     "metadata": {},
     "outputs": [],
     "prompt_number": 2
    },
    {
     "cell_type": "code",
     "collapsed": false,
     "input": [
      "# load data:\n",
      "\n",
      "node_file_name = \"nodes/cells.csv\"\n",
      "node_prop_file_name = \"nodes/cm_perisomatic.csv\"\n",
      "morph_dir = \"morph_segs\"\n",
      "\n",
      "c_df = pd.read_csv(node_file_name, sep=' ')\n",
      "c_df.set_index('id',inplace=True)\n",
      "\n",
      "cm_df = pd.read_csv(node_prop_file_name, sep=' ')\n",
      "cm_df.set_index('model_id',inplace=True)\n",
      "\n",
      "ncells = len(c_df.index) # total number of simulated cells\n",
      "print \"loaded %d nodes\" % (ncells)\n",
      "\n",
      "cells_prop_df = pd.merge(left=c_df,\n",
      "                        right=cm_df, \n",
      "                        how='left', \n",
      "                        left_on='model_id', \n",
      "                        right_index=True) # use 'model_id' key to merge, for right table the \"model_id\" is an index\n",
      "\n",
      "\n",
      "morphologies = vm.load_morphologies(cm_df,morph_dir)\n"
     ],
     "language": "python",
     "metadata": {},
     "outputs": [
      {
       "output_type": "stream",
       "stream": "stdout",
       "text": [
        "loaded 50770 nodes\n"
       ]
      }
     ],
     "prompt_number": 3
    },
    {
     "cell_type": "code",
     "collapsed": false,
     "input": [
      "# select cells to display. \n",
      "\n",
      "\n",
      "# query examples:\n",
      "#selection = \"cre_line=='Rorb' & location=='VisL4' & (z_soma**2+x_soma**2)<200**2\"\n",
      "selection = \"location=='VisL4' & (z_soma**2+x_soma**2)<300**2\"\n",
      "#selection = \"ei=='excitatory'\"\n",
      "#selection = \"model_id==314642645\"\n",
      "\n",
      "cells_select_df = cells_prop_df.query(selection)\n",
      "ncells_select = len(cells_select_df.index)\n",
      "print \"number of cells satisfying selection:\", ncells_select\n",
      "\n",
      "nskip = 200 # skip cells when there are too many to display\n",
      "rows_display = range(0,ncells_select,nskip)\n",
      "cells_display_df = cells_select_df.iloc[rows_display]\n",
      "print \"number of cells to display:\", len(cells_display_df.index)"
     ],
     "language": "python",
     "metadata": {},
     "outputs": [
      {
       "output_type": "stream",
       "stream": "stdout",
       "text": [
        "number of cells satisfying selection: 6822\n",
        "number of cells to display: 35\n"
       ]
      }
     ],
     "prompt_number": 4
    },
    {
     "cell_type": "code",
     "collapsed": false,
     "input": [
      "# Two dispalay methods: 1. full morphology or 2. somata only \n",
      "\n",
      "vm.cell_morphs3d(cells_display_df,morphologies)\n",
      "vm.cell_somata3d(cells_display_df)\n",
      "\n",
      "plt.show()\n"
     ],
     "language": "python",
     "metadata": {},
     "outputs": [],
     "prompt_number": 5
    },
    {
     "cell_type": "code",
     "collapsed": false,
     "input": [],
     "language": "python",
     "metadata": {},
     "outputs": []
    }
   ],
   "metadata": {}
  }
 ]
}