{
 "metadata": {
  "name": "",
  "signature": "sha256:c2d2daab254025e2316b42a280a43ba2a7c51d91bd21ee33623b6cb729b8db6b"
 },
 "nbformat": 3,
 "nbformat_minor": 0,
 "worksheets": [
  {
   "cells": [
    {
     "cell_type": "code",
     "collapsed": false,
     "input": [
      "import biovis.plotbio as plb\n",
      "import biovis.netgraph as ng\n",
      "import biovis.cmaps as cm\n",
      "\n",
      "%load_ext autoreload \n",
      "\n",
      "# check on every execution call\n",
      "%autoreload 2 "
     ],
     "language": "python",
     "metadata": {},
     "outputs": [],
     "prompt_number": 1
    },
    {
     "cell_type": "code",
     "collapsed": false,
     "input": [
      "# load network structure\n",
      "\n",
      "base_dir = \"/data/mat/slg/ice\"\n",
      "cells_file_name = base_dir+\"/sims/layer4/ll2/net/cells.csv\"\n",
      "cell_models_file_name = base_dir+\"/sims/layer4/ll2/net/cell_models.csv\"\n",
      "morph_dir = base_dir+\"/cell_models/biophysical/morph_segs\"\n",
      "\n",
      "\n",
      "nodes_df, cm_df = ng.load_nodes(cells_file_name, cell_models_file_name)\n",
      "cm_bio_df = cm_df[cm_df['level_of_detail']=='biophysical']\n",
      "morphologies, soma_sizes = ng.load_morphologies(morph_dir, cm_bio_df)\n",
      "\n",
      "\n",
      "#nodes_df, cm_df = ng.load_nodes(cells_file_name, cell_models_file_name)\n",
      "#morphologies, soma_sizes = ng.load_morphologies(morph_dir, cm_df)\n",
      "\n",
      "\n",
      "# added soma_sizes for intfire neurons:\n",
      "soma_sizes[100000101] = 10.0\n",
      "soma_sizes[100000102] = 10.0"
     ],
     "language": "python",
     "metadata": {},
     "outputs": [
      {
       "output_type": "stream",
       "stream": "stdout",
       "text": [
        "...importing nodes:  "
       ]
      },
      {
       "output_type": "stream",
       "stream": "stdout",
       "text": [
        "45000\n",
        "# unique morphologies: "
       ]
      },
      {
       "output_type": "stream",
       "stream": "stdout",
       "text": [
        " 5\n"
       ]
      }
     ],
     "prompt_number": 2
    },
    {
     "cell_type": "code",
     "collapsed": false,
     "input": [
      "\n",
      "\n",
      "#Make selections:\n",
      "\n",
      "mask_biophysical = \"level_of_detail=='biophysical'\"\n",
      "mask_intfire = \"level_of_detail=='intfire'\"\n",
      "\n",
      "bio_cells_df = nodes_df.query(mask_biophysical)\n",
      "iaf_cells_df = nodes_df.query(mask_intfire)\n",
      "\n",
      "print \"number of cells satisfying selection:\", len(bio_cells_df.index)\n",
      "print \"number of cells satisfying selection:\", len(iaf_cells_df.index)\n",
      "\n"
     ],
     "language": "python",
     "metadata": {},
     "outputs": [
      {
       "output_type": "stream",
       "stream": "stdout",
       "text": [
        "number of cells satisfying selection: 10000\n",
        "number of cells satisfying selection: 35000\n"
       ]
      }
     ],
     "prompt_number": 3
    },
    {
     "cell_type": "code",
     "collapsed": false,
     "input": [
      "#nodes_df"
     ],
     "language": "python",
     "metadata": {},
     "outputs": [],
     "prompt_number": 4
    },
    {
     "cell_type": "code",
     "collapsed": false,
     "input": [
      "#Initialize figure object\n",
      "fig = plb.figure()\n",
      "\n",
      "fig.set_bgcolor('black')    #Set figure background\n",
      "\n"
     ],
     "language": "python",
     "metadata": {},
     "outputs": [
      {
       "output_type": "stream",
       "stream": "stdout",
       "text": [
        "... initializing canvas ...\n",
        "...setting gbcolor:  black\n"
       ]
      }
     ],
     "prompt_number": 5
    },
    {
     "cell_type": "code",
     "collapsed": false,
     "input": [
      "#Create layer slices\n",
      "layer_depths = [100,310,420,650,850]  # values will display as negative, i.e. from top of cortex\n",
      "layer_colors = ['red','blue','green','magenta','cyan'] \n",
      "layer_alpha = 60\n",
      "fig.set_layers(layer_depths, layer_colors, layer_alpha)"
     ],
     "language": "python",
     "metadata": {},
     "outputs": [
      {
       "output_type": "stream",
       "stream": "stdout",
       "text": [
        "...setting layers...\n"
       ]
      }
     ],
     "prompt_number": 6
    },
    {
     "cell_type": "code",
     "collapsed": false,
     "input": [
      "#Create frame on outside of column; standard size is 1mm^3 and should not be changed\n",
      "frame=[[500,0,500], [500,0,-500], [-500,0,-500], [-500,0,500], [500,1000,500], [500,1000,-500], [-500,1000,-500], [-500,1000,500]]\n",
      "frame_colour = [(255,255,255)]\n",
      "fig.set_frame(frame, frame_colour) # xyz volume block to place in the window. To remove use: fig.set_frame([],[]) "
     ],
     "language": "python",
     "metadata": {},
     "outputs": [
      {
       "output_type": "stream",
       "stream": "stdout",
       "text": [
        "...setting frame...\n"
       ]
      }
     ],
     "prompt_number": 7
    },
    {
     "cell_type": "code",
     "collapsed": false,
     "input": [
      "fig.show()"
     ],
     "language": "python",
     "metadata": {},
     "outputs": [
      {
       "output_type": "stream",
       "stream": "stdout",
       "text": [
        "... showing ...\n"
       ]
      }
     ],
     "prompt_number": 8
    },
    {
     "cell_type": "code",
     "collapsed": false,
     "input": [
      "# choose colors:\n",
      "# http://www.discoveryplayground.com/computer-programming-for-kids/rgb-colors/\n",
      "# http://matplotlib.org/examples/color/named_colors.html\n",
      "# cm.colors_lib # dictionary of all named colors as color_name:(r,g,b)\n",
      "# put desired colors in the list below to use in a colormap:\n",
      "# may use multiple lists\n",
      "color_list = ['lightseagreen', 'brown', 'cadetblue', 'coral', 'blueviolet', 'beige', 'green','sandybrown','sienna'] \n",
      "\n",
      "unique_attrs = bio_cells_df['pop_name'].unique() # find unique labels from a particular column\n",
      "cmap_pop = cm.make_color_map(unique_attrs,color_list) # make a color map for these labels\n",
      "cmap_ei = {'e':'red','i':'blue'} # example of a manually created colormap\n",
      "cmap_pop['LIF_exc']='red' # add to a colormap\n",
      "cmap_pop['LIF_inh']='blue'\n",
      "\n",
      "cmap_pop"
     ],
     "language": "python",
     "metadata": {},
     "outputs": [
      {
       "metadata": {},
       "output_type": "pyout",
       "prompt_number": 9,
       "text": [
        "{'LIF_exc': 'red',\n",
        " 'LIF_inh': 'blue',\n",
        " 'Nr5a1': 'cadetblue',\n",
        " 'PV1': 'coral',\n",
        " 'PV2': 'blueviolet',\n",
        " 'Rorb': 'brown',\n",
        " 'Scnn1a': 'lightseagreen'}"
       ]
      }
     ],
     "prompt_number": 9
    },
    {
     "cell_type": "code",
     "collapsed": false,
     "input": [
      "bio_exc_cells_df = nodes_df.query(\"level_of_detail=='biophysical' & ei=='e'\")\n",
      "print \"number of biophysical inhibitory cells:\", len(bio_exc_cells_df.index)"
     ],
     "language": "python",
     "metadata": {},
     "outputs": [
      {
       "output_type": "stream",
       "stream": "stdout",
       "text": [
        " number of biophysical inhibitory cells: 8500\n"
       ]
      }
     ],
     "prompt_number": 11
    },
    {
     "cell_type": "code",
     "collapsed": false,
     "input": [
      "fig.plot_morph3D(bio_exc_cells_df[::1000], morphologies, cmap_pop,'pop_name',8)    #Pass query into plotting routine along with raw morphologies\n",
      "fig.plot_somas(bio_exc_cells_df[::1000], soma_sizes, cmap_pop,'pop_name')    #Pass query into plotting routine along with raw morphologies\n",
      "#fig.plot_morph(bio_inh_cells_df[::50], morphologies, cmap_pop,'pop_name')    #Pass query into plotting routine along with raw morphologies"
     ],
     "language": "python",
     "metadata": {},
     "outputs": [
      {
       "output_type": "stream",
       "stream": "stdout",
       "text": [
        "...drawing 3D segments...\n",
        "... processing cell: "
       ]
      },
      {
       "output_type": "stream",
       "stream": "stdout",
       "text": [
        " ready to display spherical somata!\n"
       ]
      }
     ],
     "prompt_number": 12
    },
    {
     "cell_type": "code",
     "collapsed": false,
     "input": [
      "fig.show()"
     ],
     "language": "python",
     "metadata": {},
     "outputs": [
      {
       "output_type": "stream",
       "stream": "stdout",
       "text": [
        "... showing ...\n"
       ]
      }
     ],
     "prompt_number": 13
    },
    {
     "cell_type": "code",
     "collapsed": false,
     "input": [
      "fig.clear()"
     ],
     "language": "python",
     "metadata": {},
     "outputs": [],
     "prompt_number": 14
    },
    {
     "cell_type": "code",
     "collapsed": false,
     "input": [
      "cid = 0\n",
      "cid_query = \"id==7894\"\n",
      "single_cell_df = nodes_df.query(cid_query)\n",
      "#print single_cell_df\n",
      "synapses_dir = \"./column_net/structure/synapse_locs\"\n",
      "\n",
      "synapses = ng.load_synapses(synapses_dir, cid) #returns the seg location for each synapse"
     ],
     "language": "python",
     "metadata": {},
     "outputs": [],
     "prompt_number": 15
    },
    {
     "cell_type": "code",
     "collapsed": false,
     "input": [
      "single_cell_df"
     ],
     "language": "python",
     "metadata": {},
     "outputs": [
      {
       "html": [
        "<div style=\"max-width:1500px;overflow:auto;\">\n",
        "<table border=\"1\" class=\"dataframe\">\n",
        "  <thead>\n",
        "    <tr style=\"text-align: right;\">\n",
        "      <th></th>\n",
        "      <th>model_id</th>\n",
        "      <th>x_soma</th>\n",
        "      <th>y_soma</th>\n",
        "      <th>z_soma</th>\n",
        "      <th>rotation_angle_yaxis</th>\n",
        "      <th>pop_name</th>\n",
        "      <th>ei</th>\n",
        "      <th>location</th>\n",
        "      <th>electrophysiology</th>\n",
        "      <th>level_of_detail</th>\n",
        "      <th>morphology</th>\n",
        "      <th>rotation_angle_zaxis</th>\n",
        "    </tr>\n",
        "    <tr>\n",
        "      <th>id</th>\n",
        "      <th></th>\n",
        "      <th></th>\n",
        "      <th></th>\n",
        "      <th></th>\n",
        "      <th></th>\n",
        "      <th></th>\n",
        "      <th></th>\n",
        "      <th></th>\n",
        "      <th></th>\n",
        "      <th></th>\n",
        "      <th></th>\n",
        "      <th></th>\n",
        "    </tr>\n",
        "  </thead>\n",
        "  <tbody>\n",
        "    <tr>\n",
        "      <th>7894</th>\n",
        "      <td>318808427</td>\n",
        "      <td>337.81</td>\n",
        "      <td>-391.967</td>\n",
        "      <td>-78.925</td>\n",
        "      <td>5.648496</td>\n",
        "      <td>Nr5a1</td>\n",
        "      <td>e</td>\n",
        "      <td>VisL4</td>\n",
        "      <td>473863035_fit.json</td>\n",
        "      <td>biophysical</td>\n",
        "      <td>Nr5a1-Cre_Ai14_IVSCC_-169250.03.02.01_47108781...</td>\n",
        "      <td>-2.639275</td>\n",
        "    </tr>\n",
        "  </tbody>\n",
        "</table>\n",
        "</div>"
       ],
       "metadata": {},
       "output_type": "pyout",
       "prompt_number": 16,
       "text": [
        "       model_id  x_soma   y_soma  z_soma  rotation_angle_yaxis pop_name ei  \\\n",
        "id                                                                           \n",
        "7894  318808427  337.81 -391.967 -78.925              5.648496    Nr5a1  e   \n",
        "\n",
        "     location   electrophysiology level_of_detail  \\\n",
        "id                                                  \n",
        "7894    VisL4  473863035_fit.json     biophysical   \n",
        "\n",
        "                                             morphology  rotation_angle_zaxis  \n",
        "id                                                                             \n",
        "7894  Nr5a1-Cre_Ai14_IVSCC_-169250.03.02.01_47108781...             -2.639275  "
       ]
      }
     ],
     "prompt_number": 16
    },
    {
     "cell_type": "code",
     "collapsed": false,
     "input": [
      "# put desired colors in the list below to use in a colormap:\n",
      "# may use multiple lists\n",
      "color_list = ['lightseagreen', 'brown', 'cadetblue', 'coral', 'blueviolet', 'beige', 'green'] \n",
      "\n",
      "#Multi cell plot\n",
      "# cre_lines = cells_below_y100_df['cre_line'].unique() # find unique labels from a particular column\n",
      "# cmap_cre_line = cm.make_color_map(cre_lines,color_list) # make a color map for these labels\n",
      "# cmap_ei = {'excitatory':'red','inhibitory':'blue'} # example of a manually created colormap\n",
      "# #cmap_cre_line\n",
      "\n",
      "#Single cell + synapses\n",
      "cre_lines = single_cell_df['pop_name'].unique() # find unique labels from a particular column\n",
      "cmap_cre_line = cm.make_color_map(cre_lines,color_list) # make a color map for these labels\n",
      "cmap_ei = {'excitatory':'red','inhibitory':'blue'} # example of a manually created colormap\n"
     ],
     "language": "python",
     "metadata": {},
     "outputs": [],
     "prompt_number": 17
    },
    {
     "cell_type": "code",
     "collapsed": false,
     "input": [
      "cmap_cre_line"
     ],
     "language": "python",
     "metadata": {},
     "outputs": [
      {
       "metadata": {},
       "output_type": "pyout",
       "prompt_number": 18,
       "text": [
        "{'Nr5a1': 'lightseagreen'}"
       ]
      }
     ],
     "prompt_number": 18
    },
    {
     "cell_type": "code",
     "collapsed": false,
     "input": [
      "#Single cell + synapses\n",
      "#fig.plot_synapses(cid, synapses, morphologies, n_faces)\n",
      "n_faces=8\n",
      "n_faces = 20\n",
      "fig.plot_morph3D(single_cell_df, morphologies, cmap_cre_line, 'pop_name', n_faces)    #Pass query into plotting routine along with raw morphologies\n",
      "fig.plot_somas(single_cell_df, soma_sizes, cmap_pop,'pop_name')    #Pass query into plotting routine along with raw morphologies\n",
      "\n",
      "#Single cell + synapses\n",
      "fig.plot_synapses(cid, synapses, single_cell_df, morphologies, cmap_cre_line, 'pop_name', n_faces)\n"
     ],
     "language": "python",
     "metadata": {},
     "outputs": [
      {
       "output_type": "stream",
       "stream": "stdout",
       "text": [
        "...drawing 3D segments...\n",
        "... processing cell:  "
       ]
      },
      {
       "output_type": "stream",
       "stream": "stdout",
       "text": [
        "ready to display spherical somata!\n",
        "...n_segs:  94\n",
        "ready to display synapses"
       ]
      },
      {
       "output_type": "stream",
       "stream": "stdout",
       "text": [
        "\n"
       ]
      }
     ],
     "prompt_number": 19
    },
    {
     "cell_type": "code",
     "collapsed": false,
     "input": [
      "fig.show()"
     ],
     "language": "python",
     "metadata": {},
     "outputs": [
      {
       "output_type": "stream",
       "stream": "stdout",
       "text": [
        "... showing ...\n"
       ]
      }
     ],
     "prompt_number": 20
    },
    {
     "cell_type": "code",
     "collapsed": false,
     "input": [],
     "language": "python",
     "metadata": {},
     "outputs": []
    }
   ],
   "metadata": {}
  }
 ]
}