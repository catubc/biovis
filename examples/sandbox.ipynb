{
 "metadata": {
  "name": "",
  "signature": "sha256:ffa9b867e4ff51f34978455778b2c62c1ade604cba60d0da5b4b66368015ef4e"
 },
 "nbformat": 3,
 "nbformat_minor": 0,
 "worksheets": [
  {
   "cells": [
    {
     "cell_type": "code",
     "collapsed": false,
     "input": [
      "%load_ext autoreload \n",
      "\n",
      "# check on every execution call\n",
      "%autoreload 2 \n"
     ],
     "language": "python",
     "metadata": {},
     "outputs": [],
     "prompt_number": 1
    },
    {
     "cell_type": "code",
     "collapsed": false,
     "input": [
      "colors_tup = [(str(color[0]),colors.hex2color(color[1])) for color in color_]\n"
     ],
     "language": "python",
     "metadata": {},
     "outputs": [
      {
       "ename": "NameError",
       "evalue": "name 'color_' is not defined",
       "output_type": "pyerr",
       "traceback": [
        "\u001b[1;31m---------------------------------------------------------------------------\u001b[0m\n\u001b[1;31mNameError\u001b[0m                                 Traceback (most recent call last)",
        "\u001b[1;32m<ipython-input-30-42393e3ed240>\u001b[0m in \u001b[0;36m<module>\u001b[1;34m()\u001b[0m\n\u001b[1;32m----> 1\u001b[1;33m \u001b[0mcolors_tup\u001b[0m \u001b[1;33m=\u001b[0m \u001b[1;33m[\u001b[0m\u001b[1;33m(\u001b[0m\u001b[0mstr\u001b[0m\u001b[1;33m(\u001b[0m\u001b[0mcolor\u001b[0m\u001b[1;33m[\u001b[0m\u001b[1;36m0\u001b[0m\u001b[1;33m]\u001b[0m\u001b[1;33m)\u001b[0m\u001b[1;33m,\u001b[0m\u001b[0mcolors\u001b[0m\u001b[1;33m.\u001b[0m\u001b[0mhex2color\u001b[0m\u001b[1;33m(\u001b[0m\u001b[0mcolor\u001b[0m\u001b[1;33m[\u001b[0m\u001b[1;36m1\u001b[0m\u001b[1;33m]\u001b[0m\u001b[1;33m)\u001b[0m\u001b[1;33m)\u001b[0m \u001b[1;32mfor\u001b[0m \u001b[0mcolor\u001b[0m \u001b[1;32min\u001b[0m \u001b[0mcolor_\u001b[0m\u001b[1;33m]\u001b[0m\u001b[1;33m\u001b[0m\u001b[0m\n\u001b[0m",
        "\u001b[1;31mNameError\u001b[0m: name 'color_' is not defined"
       ]
      }
     ],
     "prompt_number": 30
    },
    {
     "cell_type": "code",
     "collapsed": false,
     "input": [
      "import biovis.cmaps as cm\n",
      "\n",
      "\n",
      "cm.color_names_to_rgb(['cyan','brown'])"
     ],
     "language": "python",
     "metadata": {},
     "outputs": [
      {
       "output_type": "stream",
       "stream": "stdout",
       "text": [
        "['cyan', 'brown']\n"
       ]
      },
      {
       "metadata": {},
       "output_type": "pyout",
       "prompt_number": 6,
       "text": [
        "[(0.0, 1.0, 1.0),\n",
        " (0.6470588235294118, 0.16470588235294117, 0.16470588235294117)]"
       ]
      }
     ],
     "prompt_number": 6
    },
    {
     "cell_type": "code",
     "collapsed": false,
     "input": [
      "from matplotlib import colors\n",
      "import six\n",
      "\n",
      "colors_ = list(six.iteritems(colors.cnames))\n",
      "\n",
      "colors_tup = [(color[0],255*np.array(colors.hex2color(color[1])) for color in colors_]\n",
      "colors_dict=dict(colors_tup) # name 2 rgb\n",
      "\n"
     ],
     "language": "python",
     "metadata": {},
     "outputs": [
      {
       "ename": "SyntaxError",
       "evalue": "invalid syntax (<ipython-input-23-3b4b6d42921f>, line 6)",
       "output_type": "pyerr",
       "traceback": [
        "\u001b[1;36m  File \u001b[1;32m\"<ipython-input-23-3b4b6d42921f>\"\u001b[1;36m, line \u001b[1;32m6\u001b[0m\n\u001b[1;33m    colors_tup = [(color[0],255*np.array(colors.hex2color(color[1])) for color in colors_]\u001b[0m\n\u001b[1;37m                                                                       ^\u001b[0m\n\u001b[1;31mSyntaxError\u001b[0m\u001b[1;31m:\u001b[0m invalid syntax\n"
       ]
      }
     ],
     "prompt_number": 23
    },
    {
     "cell_type": "code",
     "collapsed": false,
     "input": [
      "import numpy as np\n",
      "255*np.array(colors.hex2color(color[1]))"
     ],
     "language": "python",
     "metadata": {},
     "outputs": [
      {
       "metadata": {},
       "output_type": "pyout",
       "prompt_number": 21,
       "text": [
        "array([ 253.,  245.,  230.])"
       ]
      }
     ],
     "prompt_number": 21
    },
    {
     "cell_type": "code",
     "collapsed": false,
     "input": [
      "layer_depths = [100,310,420,650,850]\n",
      "vis.create_window(background='white') # create a blank window for visualization\n",
      "vis.set_box(edge_coords=) # xyz volume block to place in the window\n",
      "vis.set_camera_view(location=my_location) # point of view, or may be just an orientation\n",
      "vis.set_box_edge_tick_labels(position='southwest',linewidth=2) # add xyz axes to be able to orient in space\n",
      "vis.set_axes(position='southwest',linewidth=2) # add xyz axes to be able to orient in space\n",
      "vis.set_box_axes_labels(position='southwest',linewidth=2) # add xyz axes to be able to orient in space\n",
      "vis.layers(depths=layer_depths,colors=layer_colors)\n",
      "vis.load_nodes(nodes_df,morphologies) # pass nodes to the visualiz\n",
      "vis.somata3d(gids_sel1,color='magenta')\n",
      "vis.morphs3d(gids_selg2,colors = pop_colors) # a different data frame may be passed here\n",
      "vis.set_title('mouse V1 column')\n",
      "vis.electrode(positions=linear_electrode_positions) # linear_electrode_positions are specified somewhere above\n",
      "vis.show() # the figure will pop up after after show command\n"
     ],
     "language": "python",
     "metadata": {},
     "outputs": []
    },
    {
     "cell_type": "code",
     "collapsed": false,
     "input": [
      "# another use case\n",
      "\n",
      "cells_types_file_name =\"/local1/ice/local_sims/20cells/net/con_types.csv\"\n",
      "con_ij_file_name = \"/local1/ice/local_sims/20cells/net/conij.h5\"\n",
      "\n",
      "# con_types_df is a dataframe of connection types which we load fully \n",
      "# con_ij is the matrix of ij connections. We do not fully load it to disk because it is huge\n",
      "con_types,con_ij_handle = ng.load_edges(cells_types_file_name,con_ij_file_name) \n",
      "\n",
      "vis.create_window(background='black') # will clear existing window\n",
      "vis.load_connections(file_name_con_types,file_name_conn_ij_handle) # \n",
      "vis.plot_presynaptic_cells(gid=cell_gid) # presynaptic cells for a particuarl cell_gid\n",
      "vis.plot_postsyntic_cells(gid=cell_gid) # postsynaptic cells for a particuarl cell_gid\n",
      "vis.show()"
     ],
     "language": "python",
     "metadata": {},
     "outputs": []
    },
    {
     "cell_type": "code",
     "collapsed": false,
     "input": [
      "#vis.set_box_edge_tick_labels(position='southwest',linewidth=2) # add xyz axes to be able to orient in space\n",
      "#vis.set_axes(position='southwest',linewidth=2) # add xyz axes to be able to orient in space\n",
      "#vis.set_box_axes_labels(position='southwest',linewidth=2) # add xyz axes to be able to orient in space\n",
      "#vis.set_title('mouse V1 column')\n",
      "#vis.electrode(positions=linear_electrode_positions) # linear_electrode_positions are specified somewhere above\n",
      "\n",
      "# !!!!!!!!!!!code below is not used!!!!!!!!!!!!!!!!\n",
      "#Select prepresynaptic cells\n",
      "\n",
      "presyn_selection = \"Give me all the presynaptic cells to my cell\" #Can this be done w/o instantiating column since synapses not setup\n",
      "cells_select_df = cells_prop_df.query(presyn_selection)\n",
      "\n",
      "\n"
     ],
     "language": "python",
     "metadata": {},
     "outputs": []
    }
   ],
   "metadata": {}
  }
 ]
}