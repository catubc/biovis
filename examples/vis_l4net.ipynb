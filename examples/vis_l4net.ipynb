{
 "cells": [
  {
   "cell_type": "code",
   "execution_count": 1,
   "metadata": {
    "collapsed": true
   },
   "outputs": [],
   "source": [
    "import sys\n",
    "sys.path.insert(0, \"..\")"
   ]
  },
  {
   "cell_type": "code",
   "execution_count": 2,
   "metadata": {
    "collapsed": false
   },
   "outputs": [],
   "source": [
    "import biovis.plotbio as plb\n",
    "import biovis.netgraph as ng\n",
    "import biovis.cmaps as cm\n",
    "\n",
    "%load_ext autoreload \n",
    "\n",
    "# check on every execution call\n",
    "%autoreload 2 \n",
    "\n"
   ]
  },
  {
   "cell_type": "code",
   "execution_count": 3,
   "metadata": {
    "collapsed": false
   },
   "outputs": [
    {
     "name": "stdout",
     "output_type": "stream",
     "text": [
      "...importing nodes:  50770\n",
      "# unique morphologies:  0\n"
     ]
    }
   ],
   "source": [
    "# load network structure\n",
    "\n",
    "#base_dir = \"/data/mat/slg/ice\"\n",
    "#cells_file_name = base_dir+\"/sims/layer4/ll2/net/cells.csv\"\n",
    "#cell_models_file_name = base_dir+\"/sims/layer4/ll2/net/cell_models.csv\"\n",
    "#morph_dir = base_dir+\"/cell_models/biophysical/morph_segs\"\n",
    "\n",
    "cells_file_name =\"./column_net/structure/cells.csv\"\n",
    "cell_models_file_name = \"./column_net/structure/cell_models.csv\"\n",
    "morph_dir = \"./column_net/structure/morph_segs\"\n",
    "\n",
    "nodes_df, cm_df = ng.load_nodes(cells_file_name, cell_models_file_name)\n",
    "cm_bio_df = cm_df[cm_df['level_of_detail']=='biophysical']\n",
    "morphologies, soma_sizes = ng.load_morphologies(morph_dir, cm_bio_df)\n",
    "\n",
    "# added soma_sizes for intfire neurons:\n",
    "soma_sizes[100000101] = 10.0\n",
    "soma_sizes[100000102] = 10.0\n"
   ]
  },
  {
   "cell_type": "code",
   "execution_count": 6,
   "metadata": {
    "collapsed": false
   },
   "outputs": [
    {
     "name": "stdout",
     "output_type": "stream",
     "text": [
      "number of cells satisfying selection: 0\n",
      "number of cells satisfying selection: 0\n"
     ]
    }
   ],
   "source": [
    "#Make selections:\n",
    "\n",
    "mask_biophysical = \"level_of_detail=='biophysical'\"\n",
    "mask_intfire = \"level_of_detail=='intfire'\"\n",
    "\n",
    "bio_cells_df = nodes_df.query(mask_biophysical)\n",
    "iaf_cells_df = nodes_df.query(mask_intfire)\n",
    "\n",
    "print \"number of cells satisfying selection:\", len(bio_cells_df.index)\n",
    "print \"number of cells satisfying selection:\", len(iaf_cells_df.index)\n",
    "\n",
    "\n"
   ]
  },
  {
   "cell_type": "code",
   "execution_count": 7,
   "metadata": {
    "collapsed": false
   },
   "outputs": [
    {
     "name": "stdout",
     "output_type": "stream",
     "text": [
      "... initializing canvas ...\n",
      "...setting gbcolor:  black\n"
     ]
    }
   ],
   "source": [
    "#Initialize figure object\n",
    "fig = plb.figure()\n",
    "\n",
    "fig.set_bgcolor('black')    #Set figure background\n",
    "\n"
   ]
  },
  {
   "cell_type": "code",
   "execution_count": 8,
   "metadata": {
    "collapsed": false
   },
   "outputs": [
    {
     "name": "stdout",
     "output_type": "stream",
     "text": [
      "...setting layers...\n"
     ]
    }
   ],
   "source": [
    "#Create layer slices\n",
    "layer_depths = [100,310,420,650,850]  # values will display as negative, i.e. from top of cortex\n",
    "layer_colors = ['red','blue','green','magenta','cyan'] \n",
    "layer_alpha = 60\n",
    "fig.set_layers(layer_depths, layer_colors, layer_alpha)\n",
    "\n"
   ]
  },
  {
   "cell_type": "code",
   "execution_count": 9,
   "metadata": {
    "collapsed": false
   },
   "outputs": [
    {
     "name": "stdout",
     "output_type": "stream",
     "text": [
      "...setting frame...\n"
     ]
    }
   ],
   "source": [
    "#Create frame on outside of column; standard size is 1mm^3 and should not be changed\n",
    "frame=[[500,0,500], [500,0,-500], [-500,0,-500], [-500,0,500], [500,1000,500], [500,1000,-500], [-500,1000,-500], [-500,1000,500]]\n",
    "frame_colour = [(255,255,255)]\n",
    "fig.set_frame(frame, frame_colour) # xyz volume block to place in the window. To remove use: fig.set_frame([],[]) \n",
    "\n"
   ]
  },
  {
   "cell_type": "code",
   "execution_count": null,
   "metadata": {
    "collapsed": false
   },
   "outputs": [],
   "source": [
    "fig.show()"
   ]
  },
  {
   "cell_type": "code",
   "execution_count": null,
   "metadata": {
    "collapsed": false
   },
   "outputs": [],
   "source": [
    "# choose colors:\n",
    "# http://www.discoveryplayground.com/computer-programming-for-kids/rgb-colors/\n",
    "# http://matplotlib.org/examples/color/named_colors.html\n",
    "# cm.colors_lib # dictionary of all named colors as color_name:(r,g,b)\n",
    "# put desired colors in the list below to use in a colormap:\n",
    "# may use multiple lists\n",
    "color_list = ['lightseagreen', 'brown', 'cadetblue', 'coral', 'blueviolet', 'beige', 'green','sandybrown','sienna'] \n",
    "\n",
    "unique_attrs = bio_cells_df['pop_name'].unique() # find unique labels from a particular column\n",
    "cmap_pop = cm.make_color_map(unique_attrs,color_list) # make a color map for these labels\n",
    "cmap_ei = {'e':'red','i':'blue'} # example of a manually created colormap\n",
    "cmap_pop['LIF_exc']='red' # add to a colormap\n",
    "cmap_pop['LIF_inh']='blue'\n",
    "\n",
    "cmap_pop"
   ]
  },
  {
   "cell_type": "code",
   "execution_count": null,
   "metadata": {
    "collapsed": false
   },
   "outputs": [],
   "source": [
    "bio_inh_cells_df = nodes_df.query(\"level_of_detail=='biophysical' & ei=='i'\")\n",
    "print \"number of biophysical inhibitory cells:\", len(bio_inh_cells_df.index)"
   ]
  },
  {
   "cell_type": "code",
   "execution_count": 64,
   "metadata": {
    "collapsed": false
   },
   "outputs": [
    {
     "name": "stdout",
     "output_type": "stream",
     "text": [
      "...drawing 3D segments...\n",
      "... processing cell:  ready to display 3d segments!\n"
     ]
    }
   ],
   "source": [
    "#plot selected cells\n",
    "\n",
    "#fig.plot_morph(bio_cells_df[::400], morphologies, cmap_pop,'pop_name')    #Pass query into plotting routine along with raw morphologies\n",
    "#fig.plot_somas(bio_cells_df[::400], soma_sizes, cmap_pop,'pop_name')    #Pass query into plotting routine along with raw morphologies\n",
    "#fig.plot_somas(iaf_cells_df[::10], soma_sizes, cmap_ei,'ei')    #Pass query into plotting routine along with raw morphologies\n",
    "#fig.plot_somas(bio_cells_df, soma_sizes, cmap_pop,'pop_name')    #Pass query into plotting routine along with raw morphologies\n",
    "\n",
    "fig.plot_morph3D(bio_inh_cells_df[::50], morphologies, cmap_pop,'pop_name')    #Pass query into plotting routine along with raw morphologies\n",
    "#fig.plot_somas(bio_inh_cells_df[::10], soma_sizes, cmap_pop,'pop_name')    #Pass query into plotting routine along with raw morphologies\n",
    "fig.plot_morph(bio_inh_cells_df[::50], morphologies, cmap_pop,'pop_name')    #Pass query into plotting routine along with raw morphologies\n",
    "\n",
    "\n",
    "\n",
    "\n"
   ]
  },
  {
   "cell_type": "code",
   "execution_count": 65,
   "metadata": {
    "collapsed": false
   },
   "outputs": [
    {
     "name": "stdout",
     "output_type": "stream",
     "text": [
      "... showing ...\n"
     ]
    }
   ],
   "source": [
    "fig.show()\n"
   ]
  },
  {
   "cell_type": "code",
   "execution_count": 61,
   "metadata": {
    "collapsed": false
   },
   "outputs": [],
   "source": [
    "fig.clear()"
   ]
  },
  {
   "cell_type": "code",
   "execution_count": 107,
   "metadata": {
    "collapsed": false
   },
   "outputs": [],
   "source": [
    "from isee_engine.tools import tio\n",
    "\n",
    "# examine intracortical connections:\n",
    "\n",
    "con_ic_file_name = base_dir+\"/sims/layer4/ll2/net/connections_ic.h5\"\n",
    "\n",
    "connections = tio.load_ij_connections(con_ic_file_name) # just a file handle\n",
    "indptr = connections['indptr'][...]  # read from file all indptr - has info on which lines to read from hdf5\n",
    "\n",
    "tar_gid = 78 \n",
    "src_gids = connections['src_gids'][indptr[tar_gid]:indptr[tar_gid+1]]\n"
   ]
  },
  {
   "cell_type": "code",
   "execution_count": 108,
   "metadata": {
    "collapsed": false
   },
   "outputs": [],
   "source": [
    "tar_cell_df = nodes_df.loc[[tar_gid]]\n",
    "src_cells_df = nodes_df.loc[src_gids]\n"
   ]
  },
  {
   "cell_type": "code",
   "execution_count": 109,
   "metadata": {
    "collapsed": false
   },
   "outputs": [
    {
     "name": "stdout",
     "output_type": "stream",
     "text": [
      "... processing cell:  ready to display 3d segments!\n",
      "... processing cell:  ready to display spherical somata!\n",
      "... processing cell:  100 200 300 400 ready to display spherical somata!\n"
     ]
    }
   ],
   "source": [
    "fig.plot_morph(tar_cell_df, morphologies, cmap_pop,'pop_name')    #Pass query into plotting routine along with raw morphologies\n",
    "fig.plot_somas(tar_cell_df, soma_sizes, cmap_pop,'pop_name')    #Pass query into plotting routine along with raw morphologies\n",
    "fig.plot_somas(src_cells_df, soma_sizes, cmap_pop,'pop_name')    #Pass query into plotting routine along with raw morphologies\n"
   ]
  },
  {
   "cell_type": "code",
   "execution_count": 111,
   "metadata": {
    "collapsed": false
   },
   "outputs": [
    {
     "name": "stdout",
     "output_type": "stream",
     "text": [
      "... showing ...\n"
     ]
    }
   ],
   "source": [
    "fig.show()"
   ]
  },
  {
   "cell_type": "code",
   "execution_count": 104,
   "metadata": {
    "collapsed": false
   },
   "outputs": [],
   "source": [
    "fig.clear()"
   ]
  },
  {
   "cell_type": "code",
   "execution_count": 5,
   "metadata": {
    "collapsed": false
   },
   "outputs": [],
   "source": [
    "# examine thalamocortical connections:\n",
    "from isee_engine.tools import tio\n",
    "from scipy.sparse import csr_matrix\n",
    "\n",
    "con_tc_file_name = base_dir+\"/sims/layer4/ll2/net/connections_tc.h5\"\n",
    "con_tc = tio.load_ij_connections(con_tc_file_name) # just a file handle\n",
    "\n",
    "tc_csr  = csr_matrix((  con_tc['nsyns'], con_tc['src_gids'], con_tc['indptr']))\n",
    "\n",
    "tc_csc = tc_csr.tocsc() # connections organized \n"
   ]
  },
  {
   "cell_type": "code",
   "execution_count": 20,
   "metadata": {
    "collapsed": false
   },
   "outputs": [],
   "source": [
    "lgn_gid = 1446 # chose lgn cell id\n",
    "\n",
    "indptr_csc = tc_csc.indptr\n",
    "targets = tc_csc.indices\n",
    "v1_gids = targets[indptr_csc[lgn_gid]:indptr_csc[lgn_gid+1]]\n",
    "v1_df = nodes_df.loc[v1_gids]\n"
   ]
  },
  {
   "cell_type": "code",
   "execution_count": 21,
   "metadata": {
    "collapsed": false
   },
   "outputs": [
    {
     "name": "stdout",
     "output_type": "stream",
     "text": [
      "... processing cell:  100 200 300 400 ready to display spherical somata!\n"
     ]
    }
   ],
   "source": [
    "fig.plot_somas(v1_df, soma_sizes, cmap_pop,'pop_name')    "
   ]
  },
  {
   "cell_type": "code",
   "execution_count": null,
   "metadata": {
    "collapsed": false
   },
   "outputs": [],
   "source": [
    "fig.show()"
   ]
  },
  {
   "cell_type": "code",
   "execution_count": 127,
   "metadata": {
    "collapsed": false
   },
   "outputs": [],
   "source": [
    "fig.clear()"
   ]
  },
  {
   "cell_type": "code",
   "execution_count": null,
   "metadata": {
    "collapsed": false
   },
   "outputs": [],
   "source": [
    "# plot connection matrix:\n",
    "import matplotlib.pyplot as plt\n",
    "fig2 = plt.figure(2)\n",
    "plt.spy(tc_csc,markersize=2)\n",
    "plt.xlabel('src_gid')\n",
    "plt.ylabel('tar_gid')\n",
    "plt.show()\n"
   ]
  }
 ],
 "metadata": {
  "kernelspec": {
   "display_name": "Python 2",
   "language": "python",
   "name": "python2"
  },
  "language_info": {
   "codemirror_mode": {
    "name": "ipython",
    "version": 2
   },
   "file_extension": ".py",
   "mimetype": "text/x-python",
   "name": "python",
   "nbconvert_exporter": "python",
   "pygments_lexer": "ipython2",
   "version": "2.7.6"
  }
 },
 "nbformat": 4,
 "nbformat_minor": 0
}
