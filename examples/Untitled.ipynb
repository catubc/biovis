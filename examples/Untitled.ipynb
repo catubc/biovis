{
 "cells": [
  {
   "cell_type": "code",
   "execution_count": 3,
   "metadata": {
    "collapsed": false
   },
   "outputs": [],
   "source": [
    "# Set the QT API to PyQt4\n",
    "import os\n",
    "os.environ['QT_API'] = 'pyqt'\n",
    "import sip\n",
    "sip.setapi(\"QString\", 2)\n",
    "sip.setapi(\"QVariant\", 2)\n",
    "from PyQt4.QtGui  import *\n",
    "# Import the console machinery from ipython\n",
    "from qtconsole.rich_jupyter_widget import RichJupyterWidget\n",
    "from qtconsole.inprocess import QtInProcessKernelManager\n",
    "from IPython.lib import guisupport\n"
   ]
  },
  {
   "cell_type": "code",
   "execution_count": 4,
   "metadata": {
    "collapsed": false
   },
   "outputs": [],
   "source": [
    "\n",
    "class QIPythonWidget(RichJupyterWidget):\n",
    "    \"\"\" Convenience class for a live IPython console widget. We can replace the standard banner using the customBanner argument\"\"\"\n",
    "    def __init__(self,customBanner=None,*args,**kwargs):\n",
    "        if customBanner!=None: self.banner=customBanner\n",
    "        super(QIPythonWidget, self).__init__(*args,**kwargs)\n",
    "        self.kernel_manager = kernel_manager = QtInProcessKernelManager()\n",
    "        kernel_manager.start_kernel()\n",
    "        kernel_manager.kernel.gui = 'qt4'\n",
    "        self.kernel_client = kernel_client = self._kernel_manager.client()\n",
    "        kernel_client.start_channels()\n",
    "\n",
    "        def stop():\n",
    "            kernel_client.stop_channels()\n",
    "            kernel_manager.shutdown_kernel()\n",
    "            guisupport.get_app_qt4().exit()            \n",
    "        self.exit_requested.connect(stop)\n",
    "\n",
    "    def pushVariables(self,variableDict):\n",
    "        \"\"\" Given a dictionary containing name / value pairs, push those variables to the IPython console widget \"\"\"\n",
    "        self.kernel_manager.kernel.shell.push(variableDict)\n",
    "    def clearTerminal(self):\n",
    "        \"\"\" Clears the terminal \"\"\"\n",
    "        self._control.clear()    \n",
    "    def printText(self,text):\n",
    "        \"\"\" Prints some plain text to the console \"\"\"\n",
    "        self._append_plain_text(text)        \n",
    "    def executeCommand(self,command):\n",
    "        \"\"\" Execute a command in the frame of the console widget \"\"\"\n",
    "        self._execute(command,False)\n",
    "\n",
    "\n",
    "class ExampleWidget(QWidget):\n",
    "    \"\"\" Main GUI Widget including a button and IPython Console widget inside vertical layout \"\"\"\n",
    "    def __init__(self, parent=None):\n",
    "        super(ExampleWidget, self).__init__(parent)\n",
    "        layout = QVBoxLayout(self)\n",
    "        self.button = QPushButton('Another widget')\n",
    "        ipyConsole = QIPythonWidget(customBanner=\"Welcome to the embedded ipython console\\n\")\n",
    "        layout.addWidget(self.button)\n",
    "        layout.addWidget(ipyConsole)        \n",
    "        # This allows the variable foo and method print_process_id to be accessed from the ipython console\n",
    "        ipyConsole.pushVariables({\"foo\":43,\"print_process_id\":print_process_id})\n",
    "        ipyConsole.printText(\"The variable 'foo' and the method 'print_process_id()' are available. Use the 'whos' command for information.\")                           \n"
   ]
  },
  {
   "cell_type": "code",
   "execution_count": 5,
   "metadata": {
    "collapsed": false
   },
   "outputs": [
    {
     "ename": "MultipleInstanceError",
     "evalue": "Multiple incompatible subclass instances of InProcessInteractiveShell are being created.",
     "output_type": "error",
     "traceback": [
      "\u001b[0;31m---------------------------------------------------------------------------\u001b[0m",
      "\u001b[0;31mMultipleInstanceError\u001b[0m                     Traceback (most recent call last)",
      "\u001b[0;32m<ipython-input-5-6359874067a0>\u001b[0m in \u001b[0;36m<module>\u001b[0;34m()\u001b[0m\n\u001b[1;32m     10\u001b[0m \u001b[0;34m\u001b[0m\u001b[0m\n\u001b[1;32m     11\u001b[0m \u001b[0;32mif\u001b[0m \u001b[0m__name__\u001b[0m \u001b[0;34m==\u001b[0m \u001b[0;34m'__main__'\u001b[0m\u001b[0;34m:\u001b[0m\u001b[0;34m\u001b[0m\u001b[0m\n\u001b[0;32m---> 12\u001b[0;31m     \u001b[0mmain\u001b[0m\u001b[0;34m(\u001b[0m\u001b[0;34m)\u001b[0m\u001b[0;34m\u001b[0m\u001b[0m\n\u001b[0m",
      "\u001b[0;32m<ipython-input-5-6359874067a0>\u001b[0m in \u001b[0;36mmain\u001b[0;34m()\u001b[0m\n\u001b[1;32m      5\u001b[0m \u001b[0;32mdef\u001b[0m \u001b[0mmain\u001b[0m\u001b[0;34m(\u001b[0m\u001b[0;34m)\u001b[0m\u001b[0;34m:\u001b[0m\u001b[0;34m\u001b[0m\u001b[0m\n\u001b[1;32m      6\u001b[0m     \u001b[0mapp\u001b[0m  \u001b[0;34m=\u001b[0m \u001b[0mQApplication\u001b[0m\u001b[0;34m(\u001b[0m\u001b[0;34m[\u001b[0m\u001b[0;34m]\u001b[0m\u001b[0;34m)\u001b[0m\u001b[0;34m\u001b[0m\u001b[0m\n\u001b[0;32m----> 7\u001b[0;31m     \u001b[0mwidget\u001b[0m \u001b[0;34m=\u001b[0m \u001b[0mExampleWidget\u001b[0m\u001b[0;34m(\u001b[0m\u001b[0;34m)\u001b[0m\u001b[0;34m\u001b[0m\u001b[0m\n\u001b[0m\u001b[1;32m      8\u001b[0m     \u001b[0mwidget\u001b[0m\u001b[0;34m.\u001b[0m\u001b[0mshow\u001b[0m\u001b[0;34m(\u001b[0m\u001b[0;34m)\u001b[0m\u001b[0;34m\u001b[0m\u001b[0m\n\u001b[1;32m      9\u001b[0m     \u001b[0mapp\u001b[0m\u001b[0;34m.\u001b[0m\u001b[0mexec_\u001b[0m\u001b[0;34m(\u001b[0m\u001b[0;34m)\u001b[0m\u001b[0;34m\u001b[0m\u001b[0m\n",
      "\u001b[0;32m<ipython-input-4-d517aac8ba02>\u001b[0m in \u001b[0;36m__init__\u001b[0;34m(self, parent)\u001b[0m\n\u001b[1;32m     37\u001b[0m         \u001b[0mlayout\u001b[0m \u001b[0;34m=\u001b[0m \u001b[0mQVBoxLayout\u001b[0m\u001b[0;34m(\u001b[0m\u001b[0mself\u001b[0m\u001b[0;34m)\u001b[0m\u001b[0;34m\u001b[0m\u001b[0m\n\u001b[1;32m     38\u001b[0m         \u001b[0mself\u001b[0m\u001b[0;34m.\u001b[0m\u001b[0mbutton\u001b[0m \u001b[0;34m=\u001b[0m \u001b[0mQPushButton\u001b[0m\u001b[0;34m(\u001b[0m\u001b[0;34m'Another widget'\u001b[0m\u001b[0;34m)\u001b[0m\u001b[0;34m\u001b[0m\u001b[0m\n\u001b[0;32m---> 39\u001b[0;31m         \u001b[0mipyConsole\u001b[0m \u001b[0;34m=\u001b[0m \u001b[0mQIPythonWidget\u001b[0m\u001b[0;34m(\u001b[0m\u001b[0mcustomBanner\u001b[0m\u001b[0;34m=\u001b[0m\u001b[0;34m\"Welcome to the embedded ipython console\\n\"\u001b[0m\u001b[0;34m)\u001b[0m\u001b[0;34m\u001b[0m\u001b[0m\n\u001b[0m\u001b[1;32m     40\u001b[0m         \u001b[0mlayout\u001b[0m\u001b[0;34m.\u001b[0m\u001b[0maddWidget\u001b[0m\u001b[0;34m(\u001b[0m\u001b[0mself\u001b[0m\u001b[0;34m.\u001b[0m\u001b[0mbutton\u001b[0m\u001b[0;34m)\u001b[0m\u001b[0;34m\u001b[0m\u001b[0m\n\u001b[1;32m     41\u001b[0m         \u001b[0mlayout\u001b[0m\u001b[0;34m.\u001b[0m\u001b[0maddWidget\u001b[0m\u001b[0;34m(\u001b[0m\u001b[0mipyConsole\u001b[0m\u001b[0;34m)\u001b[0m\u001b[0;34m\u001b[0m\u001b[0m\n",
      "\u001b[0;32m<ipython-input-4-d517aac8ba02>\u001b[0m in \u001b[0;36m__init__\u001b[0;34m(self, customBanner, *args, **kwargs)\u001b[0m\n\u001b[1;32m      6\u001b[0m         \u001b[0msuper\u001b[0m\u001b[0;34m(\u001b[0m\u001b[0mQIPythonWidget\u001b[0m\u001b[0;34m,\u001b[0m \u001b[0mself\u001b[0m\u001b[0;34m)\u001b[0m\u001b[0;34m.\u001b[0m\u001b[0m__init__\u001b[0m\u001b[0;34m(\u001b[0m\u001b[0;34m*\u001b[0m\u001b[0margs\u001b[0m\u001b[0;34m,\u001b[0m\u001b[0;34m**\u001b[0m\u001b[0mkwargs\u001b[0m\u001b[0;34m)\u001b[0m\u001b[0;34m\u001b[0m\u001b[0m\n\u001b[1;32m      7\u001b[0m         \u001b[0mself\u001b[0m\u001b[0;34m.\u001b[0m\u001b[0mkernel_manager\u001b[0m \u001b[0;34m=\u001b[0m \u001b[0mkernel_manager\u001b[0m \u001b[0;34m=\u001b[0m \u001b[0mQtInProcessKernelManager\u001b[0m\u001b[0;34m(\u001b[0m\u001b[0;34m)\u001b[0m\u001b[0;34m\u001b[0m\u001b[0m\n\u001b[0;32m----> 8\u001b[0;31m         \u001b[0mkernel_manager\u001b[0m\u001b[0;34m.\u001b[0m\u001b[0mstart_kernel\u001b[0m\u001b[0;34m(\u001b[0m\u001b[0;34m)\u001b[0m\u001b[0;34m\u001b[0m\u001b[0m\n\u001b[0m\u001b[1;32m      9\u001b[0m         \u001b[0mkernel_manager\u001b[0m\u001b[0;34m.\u001b[0m\u001b[0mkernel\u001b[0m\u001b[0;34m.\u001b[0m\u001b[0mgui\u001b[0m \u001b[0;34m=\u001b[0m \u001b[0;34m'qt4'\u001b[0m\u001b[0;34m\u001b[0m\u001b[0m\n\u001b[1;32m     10\u001b[0m         \u001b[0mself\u001b[0m\u001b[0;34m.\u001b[0m\u001b[0mkernel_client\u001b[0m \u001b[0;34m=\u001b[0m \u001b[0mkernel_client\u001b[0m \u001b[0;34m=\u001b[0m \u001b[0mself\u001b[0m\u001b[0;34m.\u001b[0m\u001b[0m_kernel_manager\u001b[0m\u001b[0;34m.\u001b[0m\u001b[0mclient\u001b[0m\u001b[0;34m(\u001b[0m\u001b[0;34m)\u001b[0m\u001b[0;34m\u001b[0m\u001b[0m\n",
      "\u001b[0;32m/usr/local/lib/python2.7/dist-packages/ipykernel/inprocess/manager.pyc\u001b[0m in \u001b[0;36mstart_kernel\u001b[0;34m(self, **kwds)\u001b[0m\n\u001b[1;32m     39\u001b[0m     \u001b[0;32mdef\u001b[0m \u001b[0mstart_kernel\u001b[0m\u001b[0;34m(\u001b[0m\u001b[0mself\u001b[0m\u001b[0;34m,\u001b[0m \u001b[0;34m**\u001b[0m\u001b[0mkwds\u001b[0m\u001b[0;34m)\u001b[0m\u001b[0;34m:\u001b[0m\u001b[0;34m\u001b[0m\u001b[0m\n\u001b[1;32m     40\u001b[0m         \u001b[0;32mfrom\u001b[0m \u001b[0mipykernel\u001b[0m\u001b[0;34m.\u001b[0m\u001b[0minprocess\u001b[0m\u001b[0;34m.\u001b[0m\u001b[0mipkernel\u001b[0m \u001b[0;32mimport\u001b[0m \u001b[0mInProcessKernel\u001b[0m\u001b[0;34m\u001b[0m\u001b[0m\n\u001b[0;32m---> 41\u001b[0;31m         \u001b[0mself\u001b[0m\u001b[0;34m.\u001b[0m\u001b[0mkernel\u001b[0m \u001b[0;34m=\u001b[0m \u001b[0mInProcessKernel\u001b[0m\u001b[0;34m(\u001b[0m\u001b[0mparent\u001b[0m\u001b[0;34m=\u001b[0m\u001b[0mself\u001b[0m\u001b[0;34m,\u001b[0m \u001b[0msession\u001b[0m\u001b[0;34m=\u001b[0m\u001b[0mself\u001b[0m\u001b[0;34m.\u001b[0m\u001b[0msession\u001b[0m\u001b[0;34m)\u001b[0m\u001b[0;34m\u001b[0m\u001b[0m\n\u001b[0m\u001b[1;32m     42\u001b[0m \u001b[0;34m\u001b[0m\u001b[0m\n\u001b[1;32m     43\u001b[0m     \u001b[0;32mdef\u001b[0m \u001b[0mshutdown_kernel\u001b[0m\u001b[0;34m(\u001b[0m\u001b[0mself\u001b[0m\u001b[0;34m)\u001b[0m\u001b[0;34m:\u001b[0m\u001b[0;34m\u001b[0m\u001b[0m\n",
      "\u001b[0;32m/usr/local/lib/python2.7/dist-packages/ipykernel/inprocess/ipkernel.pyc\u001b[0m in \u001b[0;36m__init__\u001b[0;34m(self, **traits)\u001b[0m\n\u001b[1;32m     65\u001b[0m \u001b[0;34m\u001b[0m\u001b[0m\n\u001b[1;32m     66\u001b[0m     \u001b[0;32mdef\u001b[0m \u001b[0m__init__\u001b[0m\u001b[0;34m(\u001b[0m\u001b[0mself\u001b[0m\u001b[0;34m,\u001b[0m \u001b[0;34m**\u001b[0m\u001b[0mtraits\u001b[0m\u001b[0;34m)\u001b[0m\u001b[0;34m:\u001b[0m\u001b[0;34m\u001b[0m\u001b[0m\n\u001b[0;32m---> 67\u001b[0;31m         \u001b[0msuper\u001b[0m\u001b[0;34m(\u001b[0m\u001b[0mInProcessKernel\u001b[0m\u001b[0;34m,\u001b[0m \u001b[0mself\u001b[0m\u001b[0;34m)\u001b[0m\u001b[0;34m.\u001b[0m\u001b[0m__init__\u001b[0m\u001b[0;34m(\u001b[0m\u001b[0;34m**\u001b[0m\u001b[0mtraits\u001b[0m\u001b[0;34m)\u001b[0m\u001b[0;34m\u001b[0m\u001b[0m\n\u001b[0m\u001b[1;32m     68\u001b[0m \u001b[0;34m\u001b[0m\u001b[0m\n\u001b[1;32m     69\u001b[0m         \u001b[0mself\u001b[0m\u001b[0;34m.\u001b[0m\u001b[0m_underlying_iopub_socket\u001b[0m\u001b[0;34m.\u001b[0m\u001b[0mon_trait_change\u001b[0m\u001b[0;34m(\u001b[0m\u001b[0mself\u001b[0m\u001b[0;34m.\u001b[0m\u001b[0m_io_dispatch\u001b[0m\u001b[0;34m,\u001b[0m \u001b[0;34m'message_sent'\u001b[0m\u001b[0;34m)\u001b[0m\u001b[0;34m\u001b[0m\u001b[0m\n",
      "\u001b[0;32m/usr/local/lib/python2.7/dist-packages/ipykernel/ipkernel.pyc\u001b[0m in \u001b[0;36m__init__\u001b[0;34m(self, **kwargs)\u001b[0m\n\u001b[1;32m     44\u001b[0m             \u001b[0muser_module\u001b[0m \u001b[0;34m=\u001b[0m \u001b[0mself\u001b[0m\u001b[0;34m.\u001b[0m\u001b[0muser_module\u001b[0m\u001b[0;34m,\u001b[0m\u001b[0;34m\u001b[0m\u001b[0m\n\u001b[1;32m     45\u001b[0m             \u001b[0muser_ns\u001b[0m     \u001b[0;34m=\u001b[0m \u001b[0mself\u001b[0m\u001b[0;34m.\u001b[0m\u001b[0muser_ns\u001b[0m\u001b[0;34m,\u001b[0m\u001b[0;34m\u001b[0m\u001b[0m\n\u001b[0;32m---> 46\u001b[0;31m             \u001b[0mkernel\u001b[0m      \u001b[0;34m=\u001b[0m \u001b[0mself\u001b[0m\u001b[0;34m,\u001b[0m\u001b[0;34m\u001b[0m\u001b[0m\n\u001b[0m\u001b[1;32m     47\u001b[0m         )\n\u001b[1;32m     48\u001b[0m         \u001b[0mself\u001b[0m\u001b[0;34m.\u001b[0m\u001b[0mshell\u001b[0m\u001b[0;34m.\u001b[0m\u001b[0mdisplayhook\u001b[0m\u001b[0;34m.\u001b[0m\u001b[0msession\u001b[0m \u001b[0;34m=\u001b[0m \u001b[0mself\u001b[0m\u001b[0;34m.\u001b[0m\u001b[0msession\u001b[0m\u001b[0;34m\u001b[0m\u001b[0m\n",
      "\u001b[0;32m/usr/local/lib/python2.7/dist-packages/traitlets/config/configurable.pyc\u001b[0m in \u001b[0;36minstance\u001b[0;34m(cls, *args, **kwargs)\u001b[0m\n\u001b[1;32m    421\u001b[0m             raise MultipleInstanceError(\n\u001b[1;32m    422\u001b[0m                 \u001b[0;34m'Multiple incompatible subclass instances of '\u001b[0m\u001b[0;34m\u001b[0m\u001b[0m\n\u001b[0;32m--> 423\u001b[0;31m                 \u001b[0;34m'%s are being created.'\u001b[0m \u001b[0;34m%\u001b[0m \u001b[0mcls\u001b[0m\u001b[0;34m.\u001b[0m\u001b[0m__name__\u001b[0m\u001b[0;34m\u001b[0m\u001b[0m\n\u001b[0m\u001b[1;32m    424\u001b[0m             )\n\u001b[1;32m    425\u001b[0m \u001b[0;34m\u001b[0m\u001b[0m\n",
      "\u001b[0;31mMultipleInstanceError\u001b[0m: Multiple incompatible subclass instances of InProcessInteractiveShell are being created."
     ]
    }
   ],
   "source": [
    "\n",
    "def print_process_id():\n",
    "    print 'Process ID is:', os.getpid()        \n",
    "\n",
    "def main():\n",
    "    app  = QApplication([])\n",
    "    widget = ExampleWidget()\n",
    "    widget.show()\n",
    "    app.exec_()    \n",
    "\n",
    "if __name__ == '__main__':\n",
    "    main()"
   ]
  },
  {
   "cell_type": "code",
   "execution_count": null,
   "metadata": {
    "collapsed": true
   },
   "outputs": [],
   "source": []
  }
 ],
 "metadata": {
  "kernelspec": {
   "display_name": "Python 2",
   "language": "python",
   "name": "python2"
  },
  "language_info": {
   "codemirror_mode": {
    "name": "ipython",
    "version": 2
   },
   "file_extension": ".py",
   "mimetype": "text/x-python",
   "name": "python",
   "nbconvert_exporter": "python",
   "pygments_lexer": "ipython2",
   "version": "2.7.6"
  }
 },
 "nbformat": 4,
 "nbformat_minor": 0
}
