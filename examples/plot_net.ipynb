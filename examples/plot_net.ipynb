{
 "metadata": {
  "name": "",
  "signature": "sha256:8ffb6a610741b5fd99cef717dc71543c24613c61390da9985c9ec6f453b97510"
 },
 "nbformat": 3,
 "nbformat_minor": 0,
 "worksheets": [
  {
   "cells": [
    {
     "cell_type": "code",
     "collapsed": false,
     "input": [
      "import biovis.plotbio as plb\n",
      "import biovis.netgraph as ng\n",
      "import biovis.cmaps as cm\n",
      "\n",
      "%load_ext autoreload \n",
      "\n",
      "# check on every execution call\n",
      "%autoreload 2 \n"
     ],
     "language": "python",
     "metadata": {},
     "outputs": [],
     "prompt_number": 1
    },
    {
     "cell_type": "code",
     "collapsed": false,
     "input": [
      "# load network structure\n",
      "\n",
      "cells_file_name =\"./column_net/structure/cells.csv\"\n",
      "cell_models_file_name = \"./column_net/structure/cell_models.csv\"\n",
      "morph_dir = \"./column_net/structure/morph_segs\"\n",
      "\n",
      "nodes_df, cm_df = ng.load_nodes(cells_file_name, cell_models_file_name)\n",
      "\n",
      "morphologies, soma_sizes = ng.load_morphologies(morph_dir, cm_df)\n",
      "print \"...# unique morphologies: \", len(morphologies)\n",
      "\n",
      "\n",
      "    "
     ],
     "language": "python",
     "metadata": {},
     "outputs": [
      {
       "output_type": "stream",
       "stream": "stdout",
       "text": [
        "...importing nodes...\n",
        "...total # cells simulated:  50770\n",
        "...importing morphologies..."
       ]
      },
      {
       "output_type": "stream",
       "stream": "stdout",
       "text": [
        "\n",
        "...# unique morphologies: "
       ]
      },
      {
       "output_type": "stream",
       "stream": "stdout",
       "text": [
        " 169\n"
       ]
      }
     ],
     "prompt_number": 2
    },
    {
     "cell_type": "code",
     "collapsed": false,
     "input": [
      "#cm_df"
     ],
     "language": "python",
     "metadata": {},
     "outputs": [],
     "prompt_number": 3
    },
    {
     "cell_type": "code",
     "collapsed": false,
     "input": [
      "#Make selections:\n",
      "\n",
      "#selection = \"cre_line=='Rorb' & location=='VisL4' & (z_soma**2+x_soma**2)<200**2\"\n",
      "mask_narrow_col = \"(z_soma**2+x_soma**2)<100**2\"\n",
      "#mask_below_y100 = \"y_soma<-500 & cre_line=='Rorb'\"\n",
      "mask_below_y100 = \"y_soma<-500 and x_soma>100\"\n",
      "\n",
      "#selection = \"ei=='excitatory'\"\n",
      "#selection = \"model_id==314642645\"\n",
      "\n",
      "cells_narrow_col_df = nodes_df.query(mask_narrow_col)\n",
      "cells_below_y100_df = nodes_df.query(mask_below_y100)\n",
      "\n",
      "\n",
      "print \"number of cells satisfying selection:\", len(cells_narrow_col_df.index)\n",
      "print \"number of cells satisfying selection:\", len(cells_below_y100_df.index)\n",
      "\n",
      "\n"
     ],
     "language": "python",
     "metadata": {},
     "outputs": [
      {
       "output_type": "stream",
       "stream": "stdout",
       "text": [
        "number of cells satisfying selection: 3109\n",
        "number of cells satisfying selection: 7351\n"
       ]
      }
     ],
     "prompt_number": 4
    },
    {
     "cell_type": "code",
     "collapsed": false,
     "input": [
      "#Initialize figure object\n",
      "fig = plb.figure()\n",
      "\n",
      "#Set figure background\n",
      "fig.set_bgcolor('black')    #Set figure background\n",
      "\n"
     ],
     "language": "python",
     "metadata": {},
     "outputs": [
      {
       "output_type": "stream",
       "stream": "stdout",
       "text": [
        "... initializing canvas ...\n",
        "...setting gbcolor:  black\n"
       ]
      }
     ],
     "prompt_number": 5
    },
    {
     "cell_type": "code",
     "collapsed": false,
     "input": [
      "#Create layer slices\n",
      "layer_depths = [100,310,420,650,850]  #NB: values will display as negative, i.e. from top of cortex\n",
      "layer_colors = ['red','blue','green','cyan','magenta'] #blue\n",
      "layer_alpha = 80\n",
      "fig.set_layers(layer_depths, layer_colors, layer_alpha)\n",
      "\n",
      "\n"
     ],
     "language": "python",
     "metadata": {},
     "outputs": [
      {
       "output_type": "stream",
       "stream": "stdout",
       "text": [
        "...setting layers...\n"
       ]
      }
     ],
     "prompt_number": 31
    },
    {
     "cell_type": "code",
     "collapsed": false,
     "input": [
      "#Create frame on outside of column; standard size is 1mm^3 and should not be changed\n",
      "frame=[[500,0,500], [500,0,-500], [-500,0,-500], [-500,0,500], [500,1000,500], [500,1000,-500], [-500,1000,-500], [-500,1000,500]]\n",
      "frame_colour = [(255,255,255)]\n",
      "fig.set_frame(frame, frame_colour) # xyz volume block to place in the window. To remove use: fig.set_frame([],[]) \n",
      "\n"
     ],
     "language": "python",
     "metadata": {},
     "outputs": [
      {
       "output_type": "stream",
       "stream": "stdout",
       "text": [
        "...setting frame...\n"
       ]
      }
     ],
     "prompt_number": 32
    },
    {
     "cell_type": "code",
     "collapsed": false,
     "input": [
      "fig.show()"
     ],
     "language": "python",
     "metadata": {},
     "outputs": [
      {
       "output_type": "stream",
       "stream": "stdout",
       "text": [
        "... showing ...\n"
       ]
      }
     ],
     "prompt_number": 33
    },
    {
     "cell_type": "code",
     "collapsed": false,
     "input": [
      "# choose colors:\n",
      "# http://www.discoveryplayground.com/computer-programming-for-kids/rgb-colors/\n",
      "# http://matplotlib.org/examples/color/named_colors.html\n",
      "#cm.colors_lib # dictionary of all named colors as color_name:(r,g,b)"
     ],
     "language": "python",
     "metadata": {},
     "outputs": [],
     "prompt_number": 9
    },
    {
     "cell_type": "code",
     "collapsed": false,
     "input": [
      "# put desired colors in the list below to use in a colormap:\n",
      "# may use multiple lists\n",
      "color_list = ['azure', 'brown', 'cadetblue', 'coral', 'blueviolet', 'beige', 'green'] \n",
      "\n",
      "cre_lines = cells_below_y100_df['cre_line'].unique() # find unique labels from a particular column\n",
      "cmap_cre_line = cm.make_color_map(cre_lines,color_list) # make a color map for these labels\n",
      "cmap_ei = {'excitatory':'red','inhibitory':'blue'} # example of a manually created colormap\n",
      "cmap_cre_line"
     ],
     "language": "python",
     "metadata": {},
     "outputs": [
      {
       "metadata": {},
       "output_type": "pyout",
       "prompt_number": 34,
       "text": [
        "{'Htr3a': 'cadetblue',\n",
        " 'Ntsr1': 'blueviolet',\n",
        " 'Pvalb': 'brown',\n",
        " 'Rbp4': 'azure',\n",
        " 'Rorb': 'green',\n",
        " 'Scnn1a': 'beige',\n",
        " 'Sst': 'coral'}"
       ]
      }
     ],
     "prompt_number": 34
    },
    {
     "cell_type": "code",
     "collapsed": false,
     "input": [
      "#plot selected cells\n",
      "\n",
      "fig.plot_morph(cells_below_y100_df[::10], morphologies, cmap_cre_line,'cre_line')    #Pass query into plotting routine along with raw morphologies\n",
      "fig.plot_somas(cells_below_y100_df[::10], soma_sizes, cmap_cre_line,'cre_line')    #Pass query into plotting routine along with raw morphologies\n",
      "\n",
      "\n",
      "\n"
     ],
     "language": "python",
     "metadata": {},
     "outputs": [
      {
       "output_type": "stream",
       "stream": "stdout",
       "text": [
        "... processing cell:  100 "
       ]
      },
      {
       "output_type": "stream",
       "stream": "stdout",
       "text": [
        "200 300 "
       ]
      },
      {
       "output_type": "stream",
       "stream": "stdout",
       "text": [
        "400 500 "
       ]
      },
      {
       "output_type": "stream",
       "stream": "stdout",
       "text": [
        "600 700 ready to display 3d segments!\n",
        "... processing cell: "
       ]
      },
      {
       "output_type": "stream",
       "stream": "stdout",
       "text": [
        " 100 "
       ]
      },
      {
       "output_type": "stream",
       "stream": "stdout",
       "text": [
        "200 "
       ]
      },
      {
       "output_type": "stream",
       "stream": "stdout",
       "text": [
        "300 "
       ]
      },
      {
       "output_type": "stream",
       "stream": "stdout",
       "text": [
        "400 "
       ]
      },
      {
       "output_type": "stream",
       "stream": "stdout",
       "text": [
        "500 "
       ]
      },
      {
       "output_type": "stream",
       "stream": "stdout",
       "text": [
        "600 "
       ]
      },
      {
       "output_type": "stream",
       "stream": "stdout",
       "text": [
        "700 ready to display spherical somata!\n"
       ]
      }
     ],
     "prompt_number": 35
    },
    {
     "cell_type": "code",
     "collapsed": false,
     "input": [
      "fig.show()\n"
     ],
     "language": "python",
     "metadata": {},
     "outputs": []
    },
    {
     "cell_type": "code",
     "collapsed": false,
     "input": [
      "fig.clear()"
     ],
     "language": "python",
     "metadata": {},
     "outputs": [],
     "prompt_number": 25
    },
    {
     "cell_type": "code",
     "collapsed": false,
     "input": [],
     "language": "python",
     "metadata": {},
     "outputs": []
    }
   ],
   "metadata": {}
  }
 ]
}