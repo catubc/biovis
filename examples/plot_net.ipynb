{
 "cells": [
  {
   "cell_type": "code",
   "execution_count": 1,
   "metadata": {
    "collapsed": false
   },
   "outputs": [],
   "source": [
    "import sys\n",
    "sys.path.insert(0, \"..\")\n"
   ]
  },
  {
   "cell_type": "code",
   "execution_count": 2,
   "metadata": {
    "collapsed": true
   },
   "outputs": [],
   "source": [
    "%gui qt"
   ]
  },
  {
   "cell_type": "code",
   "execution_count": 3,
   "metadata": {
    "collapsed": false
   },
   "outputs": [],
   "source": [
    "import biovis.plotbio as plb\n",
    "import biovis.netgraph as ng\n",
    "import biovis.cmaps as cm\n",
    "\n",
    "%load_ext autoreload \n",
    "\n",
    "# check on every execution call\n",
    "%autoreload 2 \n"
   ]
  },
  {
   "cell_type": "code",
   "execution_count": 4,
   "metadata": {
    "collapsed": false
   },
   "outputs": [
    {
     "name": "stdout",
     "output_type": "stream",
     "text": [
      "...importing nodes:  50770\n",
      "# unique morphologies:  169\n"
     ]
    }
   ],
   "source": [
    "# load network structure\n",
    "\n",
    "cells_file_name =\"./column_net/structure/cells.csv\"\n",
    "cell_models_file_name = \"./column_net/structure/cell_models.csv\"\n",
    "morph_dir = \"./column_net/structure/morph_segs\"\n",
    "synapses_dir = \"./column_net/structure/synapse_locs\"\n",
    "\n",
    "nodes_df, cm_df = ng.load_nodes(cells_file_name, cell_models_file_name)\n",
    "morphologies, soma_sizes = ng.load_morphologies(morph_dir, cm_df)\n",
    "    "
   ]
  },
  {
   "cell_type": "code",
   "execution_count": 5,
   "metadata": {
    "collapsed": false
   },
   "outputs": [],
   "source": [
    "#Make selections:\n",
    "\n",
    "#selection = \"cre_line=='Rorb' & location=='VisL4' & (z_soma**2+x_soma**2)<200**2\"\n",
    "mask_narrow_col = \"(z_soma**2+x_soma**2)<100**2\"\n",
    "xplane_range = [-200,200]\n",
    "mask_below_y100_slice = \" (y_soma<-500) & (x_soma>-200) & (x_soma<200) \"\n",
    "\n",
    "#selection = \"ei=='excitatory'\"\n",
    "\n",
    "#cells_narrow_col_df = nodes_df.query(mask_narrow_col)\n",
    "#print \"number of cells satisfying selection:\", len(cells_narrow_col_df.index)\n",
    "\n",
    "#cells_below_y100_df = nodes_df.query(mask_below_y100_slice)\n",
    "#print \"number of cells satisfying selection:\", len(cells_below_y100_df.index)\n",
    "\n",
    "#plot synapses for single cell\n",
    "cid = 0\n",
    "cid_query = \"id==27894\"\n",
    "single_cell_df = nodes_df.query(cid_query)\n",
    "#print single_cell_df\n",
    "\n",
    "synapses = ng.load_synapses(synapses_dir, cid) #returns the seg location for each synapse\n",
    "\n"
   ]
  },
  {
   "cell_type": "code",
   "execution_count": 6,
   "metadata": {
    "collapsed": false
   },
   "outputs": [
    {
     "name": "stdout",
     "output_type": "stream",
     "text": [
      "... initializing canvas ...\n",
      "...setting gbcolor:  white\n"
     ]
    }
   ],
   "source": [
    "#Initialize figure object\n",
    "\n",
    "fig = plb.figure()\n",
    "\n",
    "#Set figure background\n",
    "fig.set_bgcolor('white')    #Set figure background\n",
    "\n"
   ]
  },
  {
   "cell_type": "code",
   "execution_count": 7,
   "metadata": {
    "collapsed": false
   },
   "outputs": [],
   "source": [
    "# # #Create layer slices\n",
    "# layer_depths = [100,310,420,650,850]  #NB: values will display as negative, i.e. from top of cortex\n",
    "# layer_colors = ['red','blue','green','cyan','magenta'] #blue\n",
    "# layer_alpha = 80\n",
    "# fig.set_layers(layer_depths, layer_colors, layer_alpha)\n",
    "\n",
    "\n"
   ]
  },
  {
   "cell_type": "code",
   "execution_count": 8,
   "metadata": {
    "collapsed": false
   },
   "outputs": [
    {
     "name": "stdout",
     "output_type": "stream",
     "text": [
      "...setting frame...\n"
     ]
    }
   ],
   "source": [
    "#Create frame on outside of column; standard size is 1mm^3 and should not be changed\n",
    "frame=[[500,0,500], [500,0,-500], [-500,0,-500], [-500,0,500], [500,1000,500], [500,1000,-500], [-500,1000,-500], [-500,1000,500]]\n",
    "#frame_colour = [(255,255,255)]\n",
    "frame_colour = [(0,0,0)]\n",
    "fig.set_frame(frame, frame_colour) # xyz volume block to place in the window. To remove use: fig.set_frame([],[]) \n",
    "\n"
   ]
  },
  {
   "cell_type": "code",
   "execution_count": 9,
   "metadata": {
    "collapsed": false
   },
   "outputs": [],
   "source": [
    "# choose colors:\n",
    "# http://www.discoveryplayground.com/computer-programming-for-kids/rgb-colors/\n",
    "# http://matplotlib.org/examples/color/named_colors.html\n",
    "#cm.colors_lib # dictionary of all named colors as color_name:(r,g,b)"
   ]
  },
  {
   "cell_type": "code",
   "execution_count": 10,
   "metadata": {
    "collapsed": false
   },
   "outputs": [],
   "source": [
    "# put desired colors in the list below to use in a colormap:\n",
    "# may use multiple lists\n",
    "color_list = ['lightseagreen', 'brown', 'cadetblue', 'coral', 'blueviolet', 'beige', 'green'] \n",
    "\n",
    "#Multi cell plot\n",
    "# cre_lines = cells_below_y100_df['cre_line'].unique() # find unique labels from a particular column\n",
    "# cmap_cre_line = cm.make_color_map(cre_lines,color_list) # make a color map for these labels\n",
    "# cmap_ei = {'excitatory':'red','inhibitory':'blue'} # example of a manually created colormap\n",
    "# #cmap_cre_line\n",
    "\n",
    "#Single cell + synapses\n",
    "cre_lines = single_cell_df['cre_line'].unique() # find unique labels from a particular column\n",
    "cmap_cre_line = cm.make_color_map(cre_lines,color_list) # make a color map for these labels\n",
    "cmap_ei = {'excitatory':'red','inhibitory':'blue'} # example of a manually created colormap\n",
    "\n"
   ]
  },
  {
   "cell_type": "code",
   "execution_count": 11,
   "metadata": {
    "collapsed": false,
    "scrolled": true
   },
   "outputs": [
    {
     "name": "stdout",
     "output_type": "stream",
     "text": [
      "...drawing 3D segments...\n",
      "...n_segs:  120\n",
      "ready to display synapses\n"
     ]
    }
   ],
   "source": [
    "#plot selected objects\n",
    "#fig.plot_slice(mask_below_y100_slice[::10], morphologies, cmap_cre_line,'cre_line',xplane_range)    #Pass query into plotting routine along with raw morphologies\n",
    "\n",
    "#3D somas\n",
    "#fig.plot_somas(cells_below_y100_df[::500], soma_sizes, cmap_cre_line,'cre_line')    #Pass query into plotting routine along with raw morphologies\n",
    "#fig.plot_somas(single_cell_df, soma_sizes, cmap_cre_line,'cre_line')    #Pass query into plotting routine along with raw morphologies\n",
    "\n",
    "#1D morphologies\n",
    "#fig.plot_morph(cells_below_y100_df[:2], morphologies, cmap_cre_line, 'cre_line')    #Pass query into plotting routine along with raw morphologies\n",
    "\n",
    "#3D morphologies\n",
    "n_faces = 20\n",
    "fig.plot_morph3D(single_cell_df, morphologies, cmap_cre_line, 'cre_line', n_faces)    #Pass query into plotting routine along with raw morphologies\n",
    "\n",
    "#Single cell + synapses\n",
    "#fig.plot_synapses(cid, synapses, morphologies, n_faces)\n",
    "fig.plot_synapses(cid, synapses, single_cell_df, morphologies, cmap_cre_line, 'cre_line', n_faces)\n",
    "\n"
   ]
  },
  {
   "cell_type": "code",
   "execution_count": 23,
   "metadata": {
    "collapsed": false
   },
   "outputs": [
    {
     "name": "stdout",
     "output_type": "stream",
     "text": [
      "... showing ...\n"
     ]
    }
   ],
   "source": [
    "fig.show()\n"
   ]
  },
  {
   "cell_type": "code",
   "execution_count": 13,
   "metadata": {
    "collapsed": false
   },
   "outputs": [
    {
     "name": "stdout",
     "output_type": "stream",
     "text": [
      "...setting gbcolor:  black\n",
      "...reloading GL widget...\n"
     ]
    }
   ],
   "source": [
    "fig.set_bgcolor('black')    #Set figure background\n",
    "fig.update()\n",
    "\n"
   ]
  },
  {
   "cell_type": "code",
   "execution_count": 14,
   "metadata": {
    "collapsed": false
   },
   "outputs": [
    {
     "name": "stdout",
     "output_type": "stream",
     "text": [
      "...setting gbcolor:  white\n",
      "...reloading GL widget...\n"
     ]
    }
   ],
   "source": [
    "fig.set_bgcolor('white')    #Set figure background\n",
    "fig.update()\n"
   ]
  },
  {
   "cell_type": "code",
   "execution_count": 24,
   "metadata": {
    "collapsed": true
   },
   "outputs": [],
   "source": [
    "fig.resize_screen(10000, 10000)  #Make screen 10k x 10k"
   ]
  },
  {
   "cell_type": "code",
   "execution_count": 25,
   "metadata": {
    "collapsed": false
   },
   "outputs": [
    {
     "name": "stdout",
     "output_type": "stream",
     "text": [
      "...saving screengrab...\n",
      "... done...\n"
     ]
    }
   ],
   "source": [
    "fig.screen_grab()\n"
   ]
  },
  {
   "cell_type": "code",
   "execution_count": 26,
   "metadata": {
    "collapsed": true
   },
   "outputs": [],
   "source": [
    "fig.resize_screen(1000, 1000)   #Make screen 1k x 1k"
   ]
  },
  {
   "cell_type": "code",
   "execution_count": null,
   "metadata": {
    "collapsed": true
   },
   "outputs": [],
   "source": []
  }
 ],
 "metadata": {
  "kernelspec": {
   "display_name": "Python 2",
   "language": "python",
   "name": "python2"
  },
  "language_info": {
   "codemirror_mode": {
    "name": "ipython",
    "version": 2
   },
   "file_extension": ".py",
   "mimetype": "text/x-python",
   "name": "python",
   "nbconvert_exporter": "python",
   "pygments_lexer": "ipython2",
   "version": "2.7.12"
  }
 },
 "nbformat": 4,
 "nbformat_minor": 0
}
