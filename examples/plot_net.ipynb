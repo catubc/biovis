{
 "metadata": {
  "name": "",
  "signature": "sha256:70d998e8b98a302b6c2672ece7c69fdf8e6225d96e65ceb66fc3431c086ef78d"
 },
 "nbformat": 3,
 "nbformat_minor": 0,
 "worksheets": [
  {
   "cells": [
    {
     "cell_type": "code",
     "collapsed": false,
     "input": [
      "import biovis.plotbio as plb\n",
      "import biovis.netgraph as ng\n",
      "import biovis.cmaps as cm\n",
      "\n",
      "%load_ext autoreload \n",
      "\n",
      "# check on every execution call\n",
      "%autoreload 2 \n"
     ],
     "language": "python",
     "metadata": {},
     "outputs": [
      {
       "ename": "ImportError",
       "evalue": "No module named plotbio",
       "output_type": "pyerr",
       "traceback": [
        "\u001b[1;31m---------------------------------------------------------------------------\u001b[0m\n\u001b[1;31mImportError\u001b[0m                               Traceback (most recent call last)",
        "\u001b[1;32m<ipython-input-1-370ae873b62d>\u001b[0m in \u001b[0;36m<module>\u001b[1;34m()\u001b[0m\n\u001b[1;32m----> 1\u001b[1;33m \u001b[1;32mimport\u001b[0m \u001b[0mbiovis\u001b[0m\u001b[1;33m.\u001b[0m\u001b[0mplotbio\u001b[0m \u001b[1;32mas\u001b[0m \u001b[0mplb\u001b[0m\u001b[1;33m\u001b[0m\u001b[0m\n\u001b[0m\u001b[0;32m      2\u001b[0m \u001b[1;32mimport\u001b[0m \u001b[0mbiovis\u001b[0m\u001b[1;33m.\u001b[0m\u001b[0mnetgraph\u001b[0m \u001b[1;32mas\u001b[0m \u001b[0mng\u001b[0m\u001b[1;33m\u001b[0m\u001b[0m\n\u001b[0;32m      3\u001b[0m \u001b[1;32mimport\u001b[0m \u001b[0mbiovis\u001b[0m\u001b[1;33m.\u001b[0m\u001b[0mcmaps\u001b[0m \u001b[1;32mas\u001b[0m \u001b[0mcm\u001b[0m\u001b[1;33m\u001b[0m\u001b[0m\n\u001b[0;32m      4\u001b[0m \u001b[1;33m\u001b[0m\u001b[0m\n\u001b[0;32m      5\u001b[0m \u001b[0mget_ipython\u001b[0m\u001b[1;33m(\u001b[0m\u001b[1;33m)\u001b[0m\u001b[1;33m.\u001b[0m\u001b[0mmagic\u001b[0m\u001b[1;33m(\u001b[0m\u001b[1;34mu'load_ext autoreload'\u001b[0m\u001b[1;33m)\u001b[0m\u001b[1;33m\u001b[0m\u001b[0m\n",
        "\u001b[1;31mImportError\u001b[0m: No module named plotbio"
       ]
      }
     ],
     "prompt_number": 1
    },
    {
     "cell_type": "code",
     "collapsed": false,
     "input": [
      "# load network structure\n",
      "\n",
      "cells_file_name =\"examples/column_net/structure/cells.csv\"\n",
      "cell_models_file_name = \"examples/column_net/structure/cell_models.csv\"\n",
      "morph_dir = \"examples/column_net/structure/morph_segs\"\n",
      "\n",
      "nodes_df, cm_df = ng.load_nodes(cells_file_name, cell_models_file_name)\n",
      "morphologies, soma_sizes = ng.load_morphologies(morph_dir, cm_df)\n",
      "print \"...# unique morphologies: \", len(morphologies)\n",
      "\n",
      "\n",
      "    "
     ],
     "language": "python",
     "metadata": {},
     "outputs": [
      {
       "output_type": "stream",
       "stream": "stdout",
       "text": [
        "...importing nodes...\n",
        "...total # cells simulated:  50770\n",
        "...importing morphologies..."
       ]
      },
      {
       "output_type": "stream",
       "stream": "stdout",
       "text": [
        "\n",
        "...# unique morphologies: "
       ]
      },
      {
       "output_type": "stream",
       "stream": "stdout",
       "text": [
        " 169\n"
       ]
      }
     ],
     "prompt_number": 2
    },
    {
     "cell_type": "code",
     "collapsed": false,
     "input": [
      "#Make selections:\n",
      "\n",
      "#selection = \"cre_line=='Rorb' & location=='VisL4' & (z_soma**2+x_soma**2)<200**2\"\n",
      "mask_narrow_col = \"(z_soma**2+x_soma**2)<100**2\"\n",
      "#mask_below_y100 = \"y_soma<-500 & cre_line=='Rorb'\"\n",
      "mask_below_y100 = \"y_soma<-500 and x_soma>100\"\n",
      "\n",
      "#selection = \"ei=='excitatory'\"\n",
      "#selection = \"model_id==314642645\"\n",
      "\n",
      "cells_narrow_col_df = nodes_df.query(mask_narrow_col)\n",
      "cells_below_y100_df = nodes_df.query(mask_below_y100)\n",
      "\n",
      "\n",
      "print \"number of cells satisfying selection:\", len(cells_narrow_col_df.index)\n",
      "print \"number of cells satisfying selection:\", len(cells_below_y100_df.index)\n",
      "\n",
      "\n"
     ],
     "language": "python",
     "metadata": {},
     "outputs": [
      {
       "output_type": "stream",
       "stream": "stdout",
       "text": [
        "number of cells satisfying selection: 3109\n",
        "number of cells satisfying selection: 7351\n"
       ]
      }
     ],
     "prompt_number": 3
    },
    {
     "cell_type": "code",
     "collapsed": false,
     "input": [
      "#Initialize figure object\n",
      "fig = plb.figure()\n",
      "\n",
      "#Set figure background\n",
      "fig.set_bgcolor('black')    #Set figure background\n",
      "\n"
     ],
     "language": "python",
     "metadata": {},
     "outputs": [
      {
       "output_type": "stream",
       "stream": "stdout",
       "text": [
        "... initializing canvas ...\n",
        "...setting gbcolor:  black\n"
       ]
      }
     ],
     "prompt_number": 4
    },
    {
     "cell_type": "code",
     "collapsed": false,
     "input": [
      "#Create layer slices\n",
      "layer_depths = [100,310,420,650,850]  #NB: values will display as negative, i.e. from top of cortex\n",
      "layer_colors = [(0, 0, 127)] #blue\n",
      "layer_alpha = 100\n",
      "fig.set_layers(layer_depths, layer_colors, layer_alpha)\n",
      "\n",
      "\n"
     ],
     "language": "python",
     "metadata": {},
     "outputs": [
      {
       "output_type": "stream",
       "stream": "stdout",
       "text": [
        "...setting layers...\n"
       ]
      }
     ],
     "prompt_number": 5
    },
    {
     "cell_type": "code",
     "collapsed": false,
     "input": [
      "#Create frame on outside of column; standard size is 1mm^3 and should not be changed\n",
      "frame=[[500,0,500], [500,0,-500], [-500,0,-500], [-500,0,500], [500,1000,500], [500,1000,-500], [-500,1000,-500], [-500,1000,500]]\n",
      "frame_colour = [(255,255,255)]\n",
      "fig.set_frame(frame, frame_colour) # xyz volume block to place in the window. To remove use: fig.set_frame([],[]) \n",
      "\n"
     ],
     "language": "python",
     "metadata": {},
     "outputs": [
      {
       "output_type": "stream",
       "stream": "stdout",
       "text": [
        "...setting frame...\n"
       ]
      }
     ],
     "prompt_number": 6
    },
    {
     "cell_type": "code",
     "collapsed": false,
     "input": [
      "fig.show()"
     ],
     "language": "python",
     "metadata": {},
     "outputs": [
      {
       "output_type": "stream",
       "stream": "stdout",
       "text": [
        "... showing ...\n"
       ]
      }
     ],
     "prompt_number": 7
    },
    {
     "cell_type": "code",
     "collapsed": false,
     "input": [
      "# choose colors:\n",
      "# http://www.discoveryplayground.com/computer-programming-for-kids/rgb-colors/\n",
      "# http://matplotlib.org/examples/color/named_colors.html\n",
      "#cm.colors_lib # dictionary of named colors as color_name:(r,g,b)"
     ],
     "language": "python",
     "metadata": {},
     "outputs": [],
     "prompt_number": 9
    },
    {
     "cell_type": "code",
     "collapsed": false,
     "input": [
      "color_list = ['azure', 'brown', 'cadetblue', 'coral', 'blueviolet', 'beige', 'green']\n",
      "\n",
      "cre_lines = cells_below_y100_df['cre_line'].unique()\n",
      "cmap_cre_line = cm.make_color_map(cre_lines,color_list)\n",
      "cmap_ei = {'excitatory':'red','inhibitory':'blue'}\n",
      "cmap_cre_line"
     ],
     "language": "python",
     "metadata": {},
     "outputs": [
      {
       "metadata": {},
       "output_type": "pyout",
       "prompt_number": 8,
       "text": [
        "{'Htr3a': 'cadetblue',\n",
        " 'Ntsr1': 'blueviolet',\n",
        " 'Pvalb': 'brown',\n",
        " 'Rbp4': 'azure',\n",
        " 'Rorb': 'green',\n",
        " 'Scnn1a': 'beige',\n",
        " 'Sst': 'coral'}"
       ]
      }
     ],
     "prompt_number": 8
    },
    {
     "cell_type": "code",
     "collapsed": false,
     "input": [
      "#plot selected cells\n",
      "\n",
      "fig.plot_morph(cells_below_y100_df[::200], morphologies, cmap_ei,'ei')    #Pass query into plotting routine along with raw morphologies\n",
      "fig.plot_somas(cells_below_y100_df[::200], soma_sizes, cmap_ei,'ei')    #Pass query into plotting routine along with raw morphologies\n",
      "\n",
      "\n",
      "\n"
     ],
     "language": "python",
     "metadata": {},
     "outputs": [
      {
       "output_type": "stream",
       "stream": "stdout",
       "text": [
        "... processing cell:  ready to display 3d segments!\n",
        "... processing cell:  "
       ]
      },
      {
       "output_type": "stream",
       "stream": "stdout",
       "text": [
        "ready to display!\n"
       ]
      }
     ],
     "prompt_number": 9
    },
    {
     "cell_type": "code",
     "collapsed": false,
     "input": [
      "fig.show()\n"
     ],
     "language": "python",
     "metadata": {},
     "outputs": [
      {
       "output_type": "stream",
       "stream": "stdout",
       "text": [
        "... showing ...\n"
       ]
      }
     ],
     "prompt_number": 10
    },
    {
     "cell_type": "code",
     "collapsed": false,
     "input": [
      "fig.clear()"
     ],
     "language": "python",
     "metadata": {},
     "outputs": [],
     "prompt_number": 13
    },
    {
     "cell_type": "code",
     "collapsed": false,
     "input": [
      "cells_below_y100_df['cre_line'].unique()"
     ],
     "language": "python",
     "metadata": {},
     "outputs": [
      {
       "metadata": {},
       "output_type": "pyout",
       "prompt_number": 4,
       "text": [
        "array(['Rbp4', 'Pvalb', 'Htr3a', 'Sst', 'Ntsr1', 'Scnn1a', 'Rorb'], dtype=object)"
       ]
      }
     ],
     "prompt_number": 4
    },
    {
     "cell_type": "code",
     "collapsed": false,
     "input": [
      "# !!!!!!!!!!!code below is not used!!!!!!!!!!!!!!!!\n",
      "#Select prepresynaptic cells\n",
      "\n",
      "presyn_selection = \"Give me all the presynaptic cells to my cell\" #Can this be done w/o instantiating column since synapses not setup\n",
      "cells_select_df = cells_prop_df.query(presyn_selection)\n",
      "\n"
     ],
     "language": "python",
     "metadata": {},
     "outputs": [
      {
       "output_type": "stream",
       "stream": "stdout",
       "text": [
        "number of cells satisfying selection: 43152\n"
       ]
      }
     ],
     "prompt_number": 6
    },
    {
     "cell_type": "code",
     "collapsed": false,
     "input": [
      "#vis.set_box_edge_tick_labels(position='southwest',linewidth=2) # add xyz axes to be able to orient in space\n",
      "#vis.set_axes(position='southwest',linewidth=2) # add xyz axes to be able to orient in space\n",
      "#vis.set_box_axes_labels(position='southwest',linewidth=2) # add xyz axes to be able to orient in space\n",
      "#vis.set_title('mouse V1 column')\n",
      "#vis.electrode(positions=linear_electrode_positions) # linear_electrode_positions are specified somewhere above\n",
      "\n",
      "\n"
     ],
     "language": "python",
     "metadata": {},
     "outputs": [],
     "prompt_number": 3
    },
    {
     "cell_type": "code",
     "collapsed": false,
     "input": [
      "# select nodes to visualize:\n",
      "\n",
      "# below is an example of choosing nodes but not using the df.query() function\n",
      "#nodes_selection1_df = ~nodes_df['cre_line'].isin(['Sst','Pvalb']) # chose nodes other than 'Sst' or 'Pvalb' in \"cre_line\" column\n",
      "#nodes_selection2_df = nodes_df['cre_line'].isin(['Sst']) # chose nodes other than 'Sst' or 'Pvalb' in \"cre_line\" column\n"
     ],
     "language": "python",
     "metadata": {},
     "outputs": [],
     "prompt_number": 18
    },
    {
     "cell_type": "code",
     "collapsed": false,
     "input": [
      "layer_depths = [100,310,420,650,850]\n",
      "vis.create_window(background='white') # create a blank window for visualization\n",
      "vis.set_box(edge_coords=) # xyz volume block to place in the window\n",
      "vis.set_camera_view(location=my_location) # point of view, or may be just an orientation\n",
      "vis.set_box_edge_tick_labels(position='southwest',linewidth=2) # add xyz axes to be able to orient in space\n",
      "vis.set_axes(position='southwest',linewidth=2) # add xyz axes to be able to orient in space\n",
      "vis.set_box_axes_labels(position='southwest',linewidth=2) # add xyz axes to be able to orient in space\n",
      "vis.layers(depths=layer_depths,colors=layer_colors)\n",
      "vis.load_nodes(nodes_df,morphologies) # pass nodes to the visualiz\n",
      "vis.somata3d(gids_sel1,color='magenta')\n",
      "vis.morphs3d(gids_selg2,colors = pop_colors) # a different data frame may be passed here\n",
      "vis.set_title('mouse V1 column')\n",
      "vis.electrode(positions=linear_electrode_positions) # linear_electrode_positions are specified somewhere above\n",
      "vis.show() # the figure will pop up after after show command\n",
      "\n"
     ],
     "language": "python",
     "metadata": {},
     "outputs": []
    },
    {
     "cell_type": "code",
     "collapsed": false,
     "input": [
      "# another use case\n",
      "\n",
      "cells_types_file_name =\"/local1/ice/local_sims/20cells/net/con_types.csv\"\n",
      "con_ij_file_name = \"/local1/ice/local_sims/20cells/net/conij.h5\"\n",
      "\n",
      "# con_types_df is a dataframe of connection types which we load fully \n",
      "# con_ij is the matrix of ij connections. We do not fully load it to disk because it is huge\n",
      "con_types,con_ij_handle = ng.load_edges(cells_types_file_name,con_ij_file_name) \n",
      "\n",
      "vis.create_window(background='black') # will clear existing window\n",
      "vis.load_connections(file_name_con_types,file_name_conn_ij_handle) # \n",
      "vis.plot_presynaptic_cells(gid=cell_gid) # presynaptic cells for a particuarl cell_gid\n",
      "vis.plot_postsyntic_cells(gid=cell_gid) # postsynaptic cells for a particuarl cell_gid\n",
      "vis.show()"
     ],
     "language": "python",
     "metadata": {},
     "outputs": []
    }
   ],
   "metadata": {}
  }
 ]
}