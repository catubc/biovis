{
 "cells": [
  {
   "cell_type": "code",
   "execution_count": 1,
   "metadata": {
    "collapsed": true
   },
   "outputs": [],
   "source": [
    "import sys\n",
    "sys.path.insert(0, \"..\")"
   ]
  },
  {
   "cell_type": "code",
   "execution_count": 2,
   "metadata": {
    "collapsed": false
   },
   "outputs": [],
   "source": [
    "import biovis.plotbio as plb\n",
    "import biovis.netgraph as ng\n",
    "import biovis.cmaps as cm\n",
    "\n",
    "%load_ext autoreload \n",
    "\n",
    "# check on every execution call\n",
    "%autoreload 2 \n"
   ]
  },
  {
   "cell_type": "code",
   "execution_count": 3,
   "metadata": {
    "collapsed": false
   },
   "outputs": [
    {
     "name": "stdout",
     "output_type": "stream",
     "text": [
      "...importing nodes:  50770\n",
      "# unique morphologies:  169\n"
     ]
    }
   ],
   "source": [
    "# load network structure\n",
    "\n",
    "cells_file_name =\"./column_net/structure/cells.csv\"\n",
    "cell_models_file_name = \"./column_net/structure/cell_models.csv\"\n",
    "morph_dir = \"./column_net/structure/morph_segs\"\n",
    "\n",
    "nodes_df, cm_df = ng.load_nodes(cells_file_name, cell_models_file_name)\n",
    "\n",
    "morphologies, soma_sizes = ng.load_morphologies(morph_dir, cm_df)\n",
    "\n",
    "\n",
    "    "
   ]
  },
  {
   "cell_type": "code",
   "execution_count": 4,
   "metadata": {
    "collapsed": false
   },
   "outputs": [
    {
     "name": "stdout",
     "output_type": "stream",
     "text": [
      "number of cells satisfying selection: 3109\n",
      "number of cells satisfying selection: 12920\n"
     ]
    }
   ],
   "source": [
    "#Make selections:\n",
    "\n",
    "#selection = \"cre_line=='Rorb' & location=='VisL4' & (z_soma**2+x_soma**2)<200**2\"\n",
    "mask_narrow_col = \"(z_soma**2+x_soma**2)<100**2\"\n",
    "xplane_range = [-200,200]\n",
    "mask_below_y100_slice = \" (y_soma<-500) & (x_soma>-200) & (x_soma<200) \"\n",
    "\n",
    "#selection = \"ei=='excitatory'\"\n",
    "#selection = \"model_id==314642645\"\n",
    "\n",
    "cells_narrow_col_df = nodes_df.query(mask_narrow_col)\n",
    "cells_below_y100_df = nodes_df.query(mask_below_y100_slice)\n",
    "\n",
    "\n",
    "print \"number of cells satisfying selection:\", len(cells_narrow_col_df.index)\n",
    "print \"number of cells satisfying selection:\", len(cells_below_y100_df.index)\n",
    "\n",
    "\n"
   ]
  },
  {
   "cell_type": "code",
   "execution_count": 5,
   "metadata": {
    "collapsed": false
   },
   "outputs": [
    {
     "name": "stdout",
     "output_type": "stream",
     "text": [
      "... initializing canvas ...\n",
      "...setting gbcolor:  black\n"
     ]
    }
   ],
   "source": [
    "#Initialize figure object\n",
    "fig = plb.figure()\n",
    "\n",
    "#Set figure background\n",
    "fig.set_bgcolor('black')    #Set figure background\n",
    "\n"
   ]
  },
  {
   "cell_type": "code",
   "execution_count": 6,
   "metadata": {
    "collapsed": false
   },
   "outputs": [],
   "source": [
    "# #Create layer slices\n",
    "# layer_depths = [100,310,420,650,850]  #NB: values will display as negative, i.e. from top of cortex\n",
    "# layer_colors = ['red','blue','green','cyan','magenta'] #blue\n",
    "# layer_alpha = 80\n",
    "# fig.set_layers(layer_depths, layer_colors, layer_alpha)\n",
    "\n",
    "\n"
   ]
  },
  {
   "cell_type": "code",
   "execution_count": 6,
   "metadata": {
    "collapsed": false
   },
   "outputs": [
    {
     "name": "stdout",
     "output_type": "stream",
     "text": [
      "...setting frame...\n"
     ]
    }
   ],
   "source": [
    "#Create frame on outside of column; standard size is 1mm^3 and should not be changed\n",
    "frame=[[500,0,500], [500,0,-500], [-500,0,-500], [-500,0,500], [500,1000,500], [500,1000,-500], [-500,1000,-500], [-500,1000,500]]\n",
    "frame_colour = [(255,255,255)]\n",
    "#frame_colour = [(0,0,0)]\n",
    "fig.set_frame(frame, frame_colour) # xyz volume block to place in the window. To remove use: fig.set_frame([],[]) \n",
    "\n"
   ]
  },
  {
   "cell_type": "code",
   "execution_count": 8,
   "metadata": {
    "collapsed": false
   },
   "outputs": [],
   "source": [
    "# choose colors:\n",
    "# http://www.discoveryplayground.com/computer-programming-for-kids/rgb-colors/\n",
    "# http://matplotlib.org/examples/color/named_colors.html\n",
    "#cm.colors_lib # dictionary of all named colors as color_name:(r,g,b)"
   ]
  },
  {
   "cell_type": "code",
   "execution_count": null,
   "metadata": {
    "collapsed": false
   },
   "outputs": [],
   "source": [
    "# put desired colors in the list below to use in a colormap:\n",
    "# may use multiple lists\n",
    "color_list = ['lightseagreen', 'brown', 'cadetblue', 'coral', 'blueviolet', 'beige', 'green'] \n",
    "\n",
    "cre_lines = cells_below_y100_df['cre_line'].unique() # find unique labels from a particular column\n",
    "cmap_cre_line = cm.make_color_map(cre_lines,color_list) # make a color map for these labels\n",
    "cmap_ei = {'excitatory':'red','inhibitory':'blue'} # example of a manually created colormap\n",
    "cmap_cre_line"
   ]
  },
  {
   "cell_type": "code",
   "execution_count": 10,
   "metadata": {
    "collapsed": false
   },
   "outputs": [
    {
     "name": "stdout",
     "output_type": "stream",
     "text": [
      "...drawing 3D segments...\n",
      "... # of segs:  268\n",
      "...length of seg:  0  =  14.9039916992\n",
      "...length of seg:  1  =  20.2637448536\n"
     ]
    }
   ],
   "source": [
    "#plot selected cells\n",
    "\n",
    "#fig.plot_slice(mask_below_y100_slice[::10], morphologies, cmap_cre_line,'cre_line',xplane_range)    #Pass query into plotting routine along with raw morphologies\n",
    "#fig.plot_somas(cells_below_y100_df[::10], soma_sizes, cmap_cre_line,'cre_line')    #Pass query into plotting routine along with raw morphologies\n",
    "\n",
    "\n",
    "#1D morphologies\n",
    "#fig.plot_morph(cells_below_y100_df[:2], morphologies, cmap_cre_line, 'cre_line')    #Pass query into plotting routine along with raw morphologies\n",
    "\n",
    "\n",
    "#3D morphologies\n",
    "fig.plot_morph3D(cells_below_y100_df[:2], morphologies, cmap_cre_line, 'cre_line')    #Pass query into plotting routine along with raw morphologies\n",
    "\n",
    "\n",
    "\n"
   ]
  },
  {
   "cell_type": "code",
   "execution_count": 11,
   "metadata": {
    "collapsed": false
   },
   "outputs": [
    {
     "name": "stdout",
     "output_type": "stream",
     "text": [
      "... showing ...\n"
     ]
    }
   ],
   "source": [
    "fig.show()\n"
   ]
  },
  {
   "cell_type": "code",
   "execution_count": null,
   "metadata": {
    "collapsed": false
   },
   "outputs": [],
   "source": [
    "fig.clear()"
   ]
  },
  {
   "cell_type": "code",
   "execution_count": null,
   "metadata": {
    "collapsed": false
   },
   "outputs": [],
   "source": []
  }
 ],
 "metadata": {
  "kernelspec": {
   "display_name": "Python 2",
   "language": "python",
   "name": "python2"
  },
  "language_info": {
   "codemirror_mode": {
    "name": "ipython",
    "version": 2
   },
   "file_extension": ".py",
   "mimetype": "text/x-python",
   "name": "python",
   "nbconvert_exporter": "python",
   "pygments_lexer": "ipython2",
   "version": "2.7.6"
  }
 },
 "nbformat": 4,
 "nbformat_minor": 0
}
